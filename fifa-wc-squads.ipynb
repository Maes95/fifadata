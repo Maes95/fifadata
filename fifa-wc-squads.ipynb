{
 "metadata": {
  "name": ""
 },
 "nbformat": 3,
 "nbformat_minor": 0,
 "worksheets": [
  {
   "cells": [
    {
     "cell_type": "heading",
     "level": 1,
     "metadata": {},
     "source": [
      "FIFA World Cup squads"
     ]
    },
    {
     "cell_type": "markdown",
     "metadata": {},
     "source": [
      "Scraping FIFA WC squads (1930-2014) data from Wikipedia"
     ]
    },
    {
     "cell_type": "code",
     "collapsed": false,
     "input": [
      "import os\n",
      "import hashlib\n",
      "import requests\n",
      "from bs4 import BeautifulSoup\n",
      "import pandas as pd\n",
      "\n",
      "if not os.path.exists('.cache'):\n",
      "    os.makedirs('.cache')\n",
      "\n",
      "ua = 'Mozilla/5.0 (Windows NT 6.1; WOW64) AppleWebKit/537.36 (KHTML, like Gecko) Chrome/34.0.1847.116 Safari/537.36'\n",
      "session = requests.Session()\n",
      "\n",
      "def get(url):\n",
      "    '''Return cached lxml tree for url'''\n",
      "    path = os.path.join('.cache', hashlib.md5(url).hexdigest() + '.html')\n",
      "    if not os.path.exists(path):\n",
      "        print url\n",
      "        response = session.get(url, headers={'User-Agent': ua})\n",
      "        with open(path, 'w') as fd:\n",
      "            fd.write(response.text.encode('utf-8'))\n",
      "    return BeautifulSoup(open(path), 'html.parser')"
     ],
     "language": "python",
     "metadata": {},
     "outputs": [],
     "prompt_number": 1
    },
    {
     "cell_type": "code",
     "collapsed": false,
     "input": [
      "def squads(url):\n",
      "    result = []\n",
      "    soup = get(url)\n",
      "    year = url[29:33]\n",
      "    for table in soup.find_all('table','sortable'):\n",
      "        if \"wikitable\" not in table['class']:\n",
      "            country = table.find_previous(\"span\",\"mw-headline\").text\n",
      "            for tr in table.find_all('tr')[1:]:\n",
      "                cells = [td.text.strip() for td in tr.find_all('td')]\n",
      "                cells += [country, td.a.get('title') if td.a else 'none', year]\n",
      "                result.append(cells)\n",
      "    return result"
     ],
     "language": "python",
     "metadata": {},
     "outputs": [],
     "prompt_number": 2
    },
    {
     "cell_type": "code",
     "collapsed": false,
     "input": [
      "years = range(1930,1939,4) + range(1950,2015,4)\n",
      "result = []\n",
      "for year in years:\n",
      "    url = \"http://en.wikipedia.org/wiki/\"+str(year)+\"_FIFA_World_Cup_squads\"\n",
      "    result += squads(url)\n",
      "\n",
      "pd.DataFrame(result).to_csv('data.csv', index=False, encoding='utf-8')"
     ],
     "language": "python",
     "metadata": {},
     "outputs": [],
     "prompt_number": 3
    }
   ],
   "metadata": {}
  }
 ]
}