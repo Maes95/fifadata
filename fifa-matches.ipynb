{
 "metadata": {
  "name": ""
 },
 "nbformat": 3,
 "nbformat_minor": 0,
 "worksheets": [
  {
   "cells": [
    {
     "cell_type": "markdown",
     "metadata": {},
     "source": [
      "# URL reference\n",
      "\n",
      "- Edition: http://www.fifa.com/tournaments/archive/worldcup/france1998/matches/index.html\n",
      "- Match (pre 2010): http://www.fifa.com/tournaments/archive/worldcup/france1998/matches/round=1024/match=8779/index.html\n",
      "- Match (for 2010): http://www.fifa.com/tournaments/archive/worldcup/southafrica2010/matches/round=249718/match=300061508/report.html\n",
      "- Team: http://www.fifa.com/tournaments/archive/worldcup/argentina1978/teams/team=43922/index.html\n",
      "- Player: http://www.fifa.com/worldfootball/statisticsandrecords/players/player=92699/index.html\n"
     ]
    },
    {
     "cell_type": "code",
     "collapsed": false,
     "input": [
      "import os\n",
      "import re\n",
      "import hashlib\n",
      "import requests\n",
      "import pandas as pd\n",
      "from lxml.html import parse\n",
      "\n",
      "if not os.path.exists('.cache'):\n",
      "    os.makedirs('.cache')\n",
      "\n",
      "ua = 'Mozilla/5.0 (Windows NT 6.1; WOW64) AppleWebKit/537.36 (KHTML, like Gecko) Chrome/34.0.1847.116 Safari/537.36'\n",
      "session = requests.Session()\n",
      "\n",
      "def get(url):\n",
      "    '''Return cached lxml tree for url'''\n",
      "    path = os.path.join('.cache', hashlib.md5(url).hexdigest() + '.html')\n",
      "    if not os.path.exists(path):\n",
      "        print url\n",
      "        response = session.get(url, headers={'User-Agent': ua})\n",
      "        with open(path, 'w') as fd:\n",
      "            fd.write(response.text.encode('utf-8'))\n",
      "    return parse(open(path))"
     ],
     "language": "python",
     "metadata": {},
     "outputs": [],
     "prompt_number": 1
    },
    {
     "cell_type": "markdown",
     "metadata": {},
     "source": [
      "# Editions"
     ]
    },
    {
     "cell_type": "code",
     "collapsed": false,
     "input": [
      "editions = [\n",
      "    'southafrica2010',\n",
      "    'germany2006',\n",
      "    'koreajapan2002',\n",
      "    'france1998',\n",
      "    'usa1994',\n",
      "    'italy1990',\n",
      "    'mexico1986',\n",
      "    'spain1982',\n",
      "    'argentina1978',\n",
      "    'germany1974',\n",
      "    'mexico1970',\n",
      "    'england1966',\n",
      "    'chile1962',\n",
      "    'sweden1958',\n",
      "    'switzerland1954',\n",
      "    'brazil1950',\n",
      "    'france1938',\n",
      "    'italy1934',\n",
      "    'uruguay1930',\n",
      "]"
     ],
     "language": "python",
     "metadata": {},
     "outputs": [],
     "prompt_number": 2
    },
    {
     "cell_type": "markdown",
     "metadata": {},
     "source": [
      "# Matches"
     ]
    },
    {
     "cell_type": "code",
     "collapsed": false,
     "input": [
      "match_re = re.compile(r'/round=(\\d+)/match=(\\d+)/')\n",
      "team_re = re.compile(r'/team=(\\d+)/')\n",
      "\n",
      "stage_replace = {\n",
      "  'Group 1': 'Group A',\n",
      "  'Group 2': 'Group B',\n",
      "  'Group 3': 'Group C',\n",
      "  'Group 4': 'Group D',\n",
      "  'Group 5': 'Group E',\n",
      "  'Group 6': 'Group F',\n",
      "  'First round': 'Group A',\n",
      "  'Preliminary round': 'Group A',\n",
      "  'Match for third place': 'Third place',\n",
      "}"
     ],
     "language": "python",
     "metadata": {},
     "outputs": [],
     "prompt_number": 3
    },
    {
     "cell_type": "code",
     "collapsed": false,
     "input": [
      "matches, team_name = [], {}\n",
      "for edition in editions:\n",
      "    url = 'http://www.fifa.com/tournaments/archive/worldcup/{:s}/matches/index.html'\n",
      "    tree = get(url.format(edition))\n",
      "    for table in tree.findall('.//table'):\n",
      "        caption = table.find('caption')\n",
      "        if caption is None:\n",
      "            continue\n",
      "        stage = caption.text\n",
      "        for tr in table.findall('.//tbody/tr'):\n",
      "            cells = tr.findall('td')\n",
      "            result = cells[4].find('.//a').text\n",
      "            match_id = match_re.search(cells[5].find('.//a').get('href'))\n",
      "            flag1 = cells[3].find('.//span').get('class')[-3:].upper()\n",
      "            flag2 = cells[7].find('.//span').get('class')[-3:].upper()\n",
      "            team_id1 = team_re.search(cells[4].find('a').get('href'))\n",
      "            team_id2 = team_re.search(cells[6].find('a').get('href'))\n",
      "            team_name[flag1] = cells[4].find('a').text\n",
      "            team_name[flag2] = cells[6].find('a').text\n",
      "            \n",
      "            row = {\n",
      "                'Edition': edition,\n",
      "                'Venue': cells[2].text.strip(),\n",
      "                'Match': cells[0].text,\n",
      "                'Date': cells[1].text + ' ' + edition[-4:],\n",
      "                'Stage': stage_replace.get(stage, stage),\n",
      "                'Country1': flag1,\n",
      "                'Country2': flag2,\n",
      "                'Result': cells[5].find('.//a').text,\n",
      "                'TeamID1': team_id1.group(1),\n",
      "                'TeamID2': team_id2.group(1),\n",
      "                'RoundID': match_id.group(1),\n",
      "                'MatchID': match_id.group(2),\n",
      "            }\n",
      "            matches.append(row)"
     ],
     "language": "python",
     "metadata": {},
     "outputs": [],
     "prompt_number": 4
    },
    {
     "cell_type": "markdown",
     "metadata": {},
     "source": [
      "# Teams"
     ]
    },
    {
     "cell_type": "code",
     "collapsed": false,
     "input": [
      "re_player = re.compile(r'/worldfootball/statisticsandrecords/players/player=(\\d+)/index.html')"
     ],
     "language": "python",
     "metadata": {},
     "outputs": [],
     "prompt_number": 5
    },
    {
     "cell_type": "code",
     "collapsed": false,
     "input": [
      "teams = []\n",
      "for edition in editions:\n",
      "    url = 'http://www.fifa.com/tournaments/archive/worldcup/{:s}/teams/index.html'\n",
      "    tree = get(url.format(edition))\n",
      "    team_cols = ['No', 'Name', 'DOB', 'Position', 'Height']\n",
      "    for team in tree.xpath('.//div[contains(@class, \"tTeamsClean\")]//a'):\n",
      "        flag = team.find('.//span')\n",
      "        if flag is not None:\n",
      "            flag = flag.get('class')[-3:].upper()\n",
      "            url = team.get('href')\n",
      "            if edition == 'southafrica2010':\n",
      "                url = url.replace('index.html', 'squadlist.html')\n",
      "            subtree = get('http://www.fifa.com' + url)\n",
      "            for row in subtree.findall('.//tbody//tr'):\n",
      "                vals = [cell.text_content().strip() or '' for cell in row.findall('td')]\n",
      "                player = dict(zip(team_cols, vals))\n",
      "                player['Edition'] = edition\n",
      "                player['Country'] = flag\n",
      "                link = row.xpath('.//a[contains(@class, \"teamstats-player\")]')\n",
      "                if len(link):\n",
      "                    url = link[0].get('href', 'x')\n",
      "                    match = re_player.match(url)\n",
      "                    if match:\n",
      "                        player['ID'] = match.group(1)\n",
      "                teams.append(player)\n",
      "\n",
      "            coach = subtree.xpath('.//div[@class=\"tGroupDetail\"]/div')\n",
      "            coach = coach[0].text_content().strip()\n",
      "            teams.append({\n",
      "                'Edition': edition,\n",
      "                'Country': flag,\n",
      "                'Position': 'Coach',\n",
      "                'Name': re.sub(r'\\s+', ' ', coach)\n",
      "            })\n",
      "\n",
      "teams = pd.DataFrame(teams)"
     ],
     "language": "python",
     "metadata": {},
     "outputs": [],
     "prompt_number": 6
    },
    {
     "cell_type": "markdown",
     "metadata": {},
     "source": [
      "# Events and stats"
     ]
    },
    {
     "cell_type": "code",
     "collapsed": false,
     "input": [
      "event_re = re.compile(r' *,? *(.*?) \\(([A-Z]+)\\) (\\d+\\'|PSO)')\n",
      "pso_re = re.compile(r'(.*?) \\d+')\n",
      "players = teams.set_index(['Edition', 'Country', 'Name'])['ID']\n",
      "\n",
      "rename_player = {\n",
      "    'HONG Myungbo': 'HONG Myung Bo', # KOR, usa1994\n",
      "    'Ricardo PELAEZ': 'Ricardo PELAEZ LINARES', # MEX, france1998\n",
      "    'HWANG Bokwan': 'HWANG Bo Kwan', # KOR, italy1990\n",
      "    'HUH Jungmoo': 'HUH Jung Moo', # KOR, mexico1986\n",
      "    'JOSE TORRES': 'Jose TORRES', # POR, england1966\n",
      "    'ANTONIO SIMOES': 'Antonio SIMOES', # POR, england1966\n",
      "    'MARIO COLUNA': 'Mario COLUNA', # POR, england1966\n",
      "    'Nikita SIMONYAN': 'Nikita SIMONIAN', # URS, sweden1958\n",
      "    'KIM Taeyoung': 'KIM Tae Young', # KOR, koreajapan2002, france1998\n",
      "    # - Dobromir JECHEV is sometimes spelt at Dobromir ZECHEV of BUL? Has he played 4 cups?\n",
      "}\n",
      "\n",
      "stats = {\n",
      " 'Fouls Committed': 'Fouls',\n",
      " 'Cautions': 'Cautions',\n",
      " 'Direct Expulsions': 'Expulsions',\n",
      " 'Expulsions due to Second Caution': 'Second Cautions',\n",
      " 'Corner kicks': 'Corner Kicks',\n",
      " 'Direct Free Kicks to Goal': 'Direct Free Kicks',\n",
      " 'Indirect Free Kicks to Goal': 'Indirect Free Kicks',\n",
      " 'Penalty Kicks': 'Penalty Kicks',\n",
      " 'Offsides': 'Offsides',\n",
      " 'Own Goals': 'Own',\n",
      " 'Possession (%)': 'Possession',\n",
      " 'Shots': 'Shots',\n",
      " 'Shots on goal': 'On Goal'\n",
      "}\n",
      "\n",
      "def player_id(match, name):\n",
      "    name = rename_player.get(name, name)\n",
      "    id = players.get((match['Edition'], match['Country1'], name))\n",
      "    if id is None:\n",
      "        id = players.get((match['Edition'], match['Country2'], name))\n",
      "    if id is not None:\n",
      "        # Tunisia has duplicate players\n",
      "        # http://www.fifa.com/tournaments/archive/worldcup/koreajapan2002/teams/team=43888/index.html\n",
      "        if type(id) is not str:\n",
      "            id = id[-1]\n",
      "        return id\n",
      "    else:\n",
      "        print 'Missing', match['Edition'], match['Country1'], match['Country2'], name, hashlib.md5(url).hexdigest() + '.html'\n",
      "        return None, None"
     ],
     "language": "python",
     "metadata": {},
     "outputs": [],
     "prompt_number": 7
    },
    {
     "cell_type": "code",
     "collapsed": false,
     "input": [
      "events  = []\n",
      "for match in matches:\n",
      "    url = 'http://www.fifa.com/tournaments/archive/worldcup/{Edition:s}/matches/round={RoundID:s}/match={MatchID:s}/index.html'.format(**match)\n",
      "    if match['Edition'] == 'southafrica2010':\n",
      "        url = url.replace('index.html', 'report.html')\n",
      "    tree = get(url)\n",
      "\n",
      "    # Summary\n",
      "    vals = tree.xpath('.//div[@class=\"hdTeams\"]//tbody//td')\n",
      "    match['Time'] = vals[2].text\n",
      "    match['Attendance'] = vals[-1].text\n",
      "\n",
      "    # Stats\n",
      "    stats_table = tree.find('.//table[@class=\"summaryStatistics\"]')\n",
      "    if stats_table is not None:\n",
      "        for row in stats_table.findall('.//tbody/tr'):\n",
      "            val1, stat, val2 = [cell.text for cell in row.findall('td')]\n",
      "            if stat in stats:\n",
      "                stat = stats[stat]\n",
      "                match[stat + '1'], match[stat + '2'] = val1, val2\n",
      "    \n",
      "    lists = tree.xpath('.//div[contains(@class, \"mrep\")]//ul')\n",
      "    # G = Goal, C = Caution, E = Expulsion\n",
      "    for event, index in (('G', 0), ('C', 5), ('E', 6)):\n",
      "        for item in lists[index].findall('li'):\n",
      "            m = event_re.search(item.text)\n",
      "            name, flag, when = m.groups()\n",
      "            events.append({\n",
      "                'MatchID': match['MatchID'],\n",
      "                'PlayerID': player_id(match, name),\n",
      "                'Country': flag,\n",
      "                'Event': event,\n",
      "                'Time': when,\n",
      "            })\n",
      "\n",
      "    # PG = Penalty goal, PS = Penalty save. P? = Penalty what happened?\n",
      "    if len(lists) >= 9:\n",
      "        for item in lists[8].findall('li'):\n",
      "            name = pso_re.match(item.find('.//div[@class=\"name\"]').text)\n",
      "            name = name.group(1)\n",
      "            event = item.find('.//div[@class=\"conclusion\"]').text\n",
      "            events.append({\n",
      "                'MatchID': match['MatchID'],\n",
      "                'PlayerID': player_id(match, name),\n",
      "                'Event': 'P' + (event[0] if event is not None else '?'),\n",
      "                'Country': '',\n",
      "                'Time': 'PSO',\n",
      "            })\n",
      "\n",
      "    # Team and substitutions\n",
      "    for i, ul in enumerate(lists[1:6]):\n",
      "        name = ul.xpath('.//div[contains(@class, \"bold\")]')[0].text.strip()\n",
      "        team = [li.text for li in ul.findall('li//span')]"
     ],
     "language": "python",
     "metadata": {},
     "outputs": [
      {
       "output_type": "stream",
       "stream": "stdout",
       "text": [
        "Missing germany2006 SCG NED  f7acf338f6fe6f8854f430a5e981cf65.html\n",
        "Missing"
       ]
      },
      {
       "output_type": "stream",
       "stream": "stdout",
       "text": [
        " germany2006 CIV SCG  5d9f4f869903aa29e723adc1a4a9a18f.html\n",
        "Missing"
       ]
      },
      {
       "output_type": "stream",
       "stream": "stdout",
       "text": [
        " mexico1970 BUL MAR Dobromir JECHEV be27896bad53df07212c2684cc5bed52.html\n"
       ]
      }
     ],
     "prompt_number": 8
    },
    {
     "cell_type": "markdown",
     "metadata": {},
     "source": [
      "# Save"
     ]
    },
    {
     "cell_type": "code",
     "collapsed": false,
     "input": [
      "matches_frame = pd.DataFrame(matches)\n",
      "\n",
      "# 1950: Urugual - Brazil match is the \"Final\". Sweden - Spain is the Third place. Group F is Quarter-Finals\n",
      "matches_frame.Stage[matches_frame.MatchID == '1206'] = 'Third place'\n",
      "matches_frame.Stage[matches_frame.MatchID == '1190'] = 'Final'\n",
      "matches_frame.Stage[matches_frame.MatchID == '1231'] = 'Quarter-finals'\n",
      "matches_frame.Stage[matches_frame.MatchID == '1186'] = 'Quarter-finals'\n",
      "matches_frame.Stage[matches_frame.MatchID == '1189'] = 'Quarter-finals'\n",
      "matches_frame.Stage[matches_frame.MatchID == '1207'] = 'Quarter-finals'\n",
      "        \n",
      "matches_frame.to_csv('fifa-match.csv', encoding='utf-8', index=False)"
     ],
     "language": "python",
     "metadata": {},
     "outputs": [],
     "prompt_number": 9
    },
    {
     "cell_type": "code",
     "collapsed": false,
     "input": [
      "teams.to_csv('fifa-team.csv', encoding='utf-8', index=False, cols=['Edition', 'Country', 'ID'] + team_cols)\n",
      "\n",
      "# Sort by MatchID (int) and Time (PSO->null)\n",
      "events_frame = pd.DataFrame(events)\n",
      "events_frame['MatchID'] = events_frame['MatchID'].astype(int)\n",
      "events_frame['Time'] = events_frame['Time'].str.replace(\"'\", '').replace('PSO', pd.np.nan).astype(float)\n",
      "event_cols = ['MatchID', 'Time', 'Event', 'PlayerID', 'Country']\n",
      "events_frame.sort(event_cols, ascending=[False, True, True, True, True], inplace=True)\n",
      "events_frame.to_csv('fifa-event.csv', encoding='utf-8', index=False, cols=event_cols, float_format='%.0f')\n",
      "\n",
      "# TODO: save team_name"
     ],
     "language": "python",
     "metadata": {},
     "outputs": [],
     "prompt_number": 10
    }
   ],
   "metadata": {}
  }
 ]
}