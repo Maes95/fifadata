{
 "metadata": {
  "name": ""
 },
 "nbformat": 3,
 "nbformat_minor": 0,
 "worksheets": [
  {
   "cells": [
    {
     "cell_type": "markdown",
     "metadata": {},
     "source": [
      "# FIFA World Cup data\n",
      "\n",
      "http://www.linguasport.com/futbol/internacional/mundial/seekff.asp has a list of all results. It's a fairly simple paginated HTML table structure."
     ]
    },
    {
     "cell_type": "code",
     "collapsed": false,
     "input": [
      "import os\n",
      "import re\n",
      "import hashlib\n",
      "import requests\n",
      "from lxml.html import parse\n",
      "\n",
      "if not os.path.exists('.cache'):\n",
      "    os.makedirs('.cache')\n",
      "\n",
      "ua = 'Mozilla/5.0 (Windows NT 6.1; WOW64) AppleWebKit/537.36 (KHTML, like Gecko) Chrome/34.0.1847.116 Safari/537.36'\n",
      "session = requests.Session()\n",
      "\n",
      "def get(url):\n",
      "    '''Return cached lxml tree for url'''\n",
      "    path = os.path.join('.cache', hashlib.md5(url).hexdigest() + '.html')\n",
      "    if not os.path.exists(path):\n",
      "        print url\n",
      "        response = session.get(url, headers={'User-Agent': ua})\n",
      "        with open(path, 'w') as fd:\n",
      "            fd.write(response.text.encode('utf-8'))\n",
      "    return parse(open(path))"
     ],
     "language": "python",
     "metadata": {},
     "outputs": [],
     "prompt_number": 1
    },
    {
     "cell_type": "code",
     "collapsed": false,
     "input": [
      "result = []\n",
      "\n",
      "def process(page):\n",
      "    headers = 'edition,year,venue,round,team1,team2,score'.split(',')\n",
      "    url = 'http://www.linguasport.com/futbol/internacional/mundial/seekff.asp'\n",
      "    if page > 1:\n",
      "        url += '?pn=%d' % page\n",
      "    tree = get(url)\n",
      "    count = 0\n",
      "    for row in tree.findall('.//tr')[1:]:\n",
      "        cells = [cell.text_content().strip() for cell in row.findall('.//td')]\n",
      "        if len(cells) == 7:\n",
      "            match = dict(zip(headers, cells))\n",
      "            match['url'] = row.find('.//a').get('href')\n",
      "            result.append(match)\n",
      "            count += 1\n",
      "    return count"
     ],
     "language": "python",
     "metadata": {},
     "outputs": [],
     "prompt_number": 2
    },
    {
     "cell_type": "code",
     "collapsed": false,
     "input": [
      "page = 1\n",
      "while True:\n",
      "    count = process(page)\n",
      "    if count == 0:\n",
      "        break\n",
      "    else:\n",
      "        page += 1"
     ],
     "language": "python",
     "metadata": {},
     "outputs": [],
     "prompt_number": 3
    },
    {
     "cell_type": "code",
     "collapsed": false,
     "input": [
      "data = pd.DataFrame(result)\n",
      "data.to_csv('matches.csv', index=False, encoding='utf-8')"
     ],
     "language": "python",
     "metadata": {},
     "outputs": [],
     "prompt_number": 4
    },
    {
     "cell_type": "markdown",
     "metadata": {},
     "source": [
      "# Scrape goal-level data"
     ]
    },
    {
     "cell_type": "markdown",
     "metadata": {},
     "source": [
      "We're restricting ourselves to the FS (final stage) details pages"
     ]
    },
    {
     "cell_type": "code",
     "collapsed": false,
     "input": [
      "urls = set([url.split('#')[0] for url in data['url'].unique() if '_FS' in url])"
     ],
     "language": "python",
     "metadata": {},
     "outputs": [],
     "prompt_number": 5
    },
    {
     "cell_type": "code",
     "collapsed": false,
     "input": [
      "re_space = re.compile(r'\\s+', re.DOTALL)\n",
      "re_goals = re.compile(r'(\\d)\\-(\\d) +\\((\\D+)([\\d\\+]+).*?\\)', re.DOTALL)\n",
      "head_goals = 'team1score,team2score,player,minute'.split(',')\n",
      "re_books = re.compile(r'([^\\(]+)\\(.*?([\\d\\+]+).*?\\) *[,/]', re.DOTALL)\n",
      "head_books = 'player,minute'.split(',')\n",
      "\n",
      "base = 'http://www.linguasport.com/futbol/internacional/mundial/'\n",
      "goals = []\n",
      "games = []\n",
      "books = []\n",
      "for url in urls:\n",
      "    tree = get(base + url)\n",
      "    for table in tree.findall('.//table[@class=\"MsoNormalTable\"]'):\n",
      "        game = {\n",
      "            'url': url,\n",
      "            'stage': table.find('.//tr[1]//td').text_content()\n",
      "        }\n",
      "        games.append(game)\n",
      "        game['game_id'] = len(games)\n",
      "        for para in table.findall('.//tr[2]//p'):\n",
      "            text = para.text_content().strip()\n",
      "            match = re.match(r'([A-Z]+): +(.*)', text, re.DOTALL)\n",
      "            if match:\n",
      "                game[match.group(1)] = re_space.sub(' ', match.group(2)).strip()\n",
      "            if 'ATTENDANCE' in game:\n",
      "                game['ATTENDANCE'] = game['ATTENDANCE'].replace('.', '')\n",
      "            if 'GOALS' in game:\n",
      "                for matches in re_goals.findall(game['GOALS']):\n",
      "                    goal = dict(zip(head_goals, [m.strip() for m in matches]))\n",
      "                    goal['game_id'] = game['game_id']\n",
      "                    goals.append(goal)\n",
      "                del game['GOALS']\n",
      "            if 'BOOKED' in game:\n",
      "                for matches in re_books.findall(game['BOOKED']):\n",
      "                    book = dict(zip(head_books, [m.strip() for m in matches]))\n",
      "                    book['game_id'] = game['game_id']\n",
      "                    books.append(book)\n",
      "                del game['BOOKED']\n",
      "        teams = re_space.sub(' ', table.find('.//tr[3]//td[3]').text_content())\n",
      "        teams = teams.replace(u'\\xe2\\x80\\x93', '-').strip().split(' - ')\n",
      "        if len(teams) == 2:\n",
      "            game['team1'], game['team2'] = teams"
     ],
     "language": "python",
     "metadata": {},
     "outputs": [],
     "prompt_number": 6
    },
    {
     "cell_type": "code",
     "collapsed": false,
     "input": [
      "pd.DataFrame(games).to_csv('games.csv', index=False, encoding='utf-8')\n",
      "pd.DataFrame(goals).to_csv('goals.csv', index=False, encoding='utf-8')\n",
      "pd.DataFrame(books).to_csv('books.csv', index=False, encoding='utf-8')"
     ],
     "language": "python",
     "metadata": {},
     "outputs": [],
     "prompt_number": 7
    }
   ],
   "metadata": {}
  }
 ]
}