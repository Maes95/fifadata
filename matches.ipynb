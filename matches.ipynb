{
 "metadata": {
  "name": ""
 },
 "nbformat": 3,
 "nbformat_minor": 0,
 "worksheets": [
  {
   "cells": [
    {
     "cell_type": "markdown",
     "metadata": {},
     "source": [
      "# FIFA World Cup data\n",
      "\n",
      "http://www.linguasport.com/futbol/internacional/mundial/seekff.asp has a list of all results. It's a fairly simple paginated HTML table structure."
     ]
    },
    {
     "cell_type": "code",
     "collapsed": false,
     "input": [
      "import os\n",
      "import hashlib\n",
      "import requests\n",
      "from lxml.html import parse\n",
      "\n",
      "if not os.path.exists('.cache'):\n",
      "    os.makedirs('.cache')\n",
      "\n",
      "ua = 'Mozilla/5.0 (Windows NT 6.1; WOW64) AppleWebKit/537.36 (KHTML, like Gecko) Chrome/34.0.1847.116 Safari/537.36'\n",
      "session = requests.Session()\n",
      "\n",
      "def get(url):\n",
      "    '''Return cached lxml tree for url'''\n",
      "    path = os.path.join('.cache', hashlib.md5(url).hexdigest() + '.html')\n",
      "    if not os.path.exists(path):\n",
      "        print url\n",
      "        response = session.get(url, headers={'User-Agent': ua})\n",
      "        with open(path, 'w') as fd:\n",
      "            fd.write(response.text.encode('utf-8'))\n",
      "    return parse(open(path))"
     ],
     "language": "python",
     "metadata": {},
     "outputs": [],
     "prompt_number": 88
    },
    {
     "cell_type": "code",
     "collapsed": false,
     "input": [
      "result = []\n",
      "\n",
      "def process(page):\n",
      "    headers = 'edition,year,venue,round,team1,team2,score'.split(',')\n",
      "    url = 'http://www.linguasport.com/futbol/internacional/mundial/seekff.asp'\n",
      "    if page > 1:\n",
      "        url += '?pn=%d' % page\n",
      "    tree = get(url)\n",
      "    count = 0\n",
      "    for row in tree.findall('.//tr')[1:]:\n",
      "        cells = [cell.text_content().strip() for cell in row.findall('.//td')]\n",
      "        if len(cells) == 7:\n",
      "            result.append(dict(zip(headers, cells)))\n",
      "            count += 1\n",
      "    return count"
     ],
     "language": "python",
     "metadata": {},
     "outputs": [],
     "prompt_number": 109
    },
    {
     "cell_type": "code",
     "collapsed": false,
     "input": [
      "page = 1\n",
      "while True:\n",
      "    count = process(page)\n",
      "    if count == 0:\n",
      "        break\n",
      "    else:\n",
      "        page += 1"
     ],
     "language": "python",
     "metadata": {},
     "outputs": [
      {
       "output_type": "stream",
       "stream": "stdout",
       "text": [
        "http://www.linguasport.com/futbol/internacional/mundial/seekff.asp?pn=3\n",
        "http://www.linguasport.com/futbol/internacional/mundial/seekff.asp?pn=4"
       ]
      },
      {
       "output_type": "stream",
       "stream": "stdout",
       "text": [
        "\n",
        "http://www.linguasport.com/futbol/internacional/mundial/seekff.asp?pn=5"
       ]
      },
      {
       "output_type": "stream",
       "stream": "stdout",
       "text": [
        "\n",
        "http://www.linguasport.com/futbol/internacional/mundial/seekff.asp?pn=6"
       ]
      },
      {
       "output_type": "stream",
       "stream": "stdout",
       "text": [
        "\n",
        "http://www.linguasport.com/futbol/internacional/mundial/seekff.asp?pn=7"
       ]
      },
      {
       "output_type": "stream",
       "stream": "stdout",
       "text": [
        "\n",
        "http://www.linguasport.com/futbol/internacional/mundial/seekff.asp?pn=8"
       ]
      },
      {
       "output_type": "stream",
       "stream": "stdout",
       "text": [
        "\n",
        "http://www.linguasport.com/futbol/internacional/mundial/seekff.asp?pn=9"
       ]
      },
      {
       "output_type": "stream",
       "stream": "stdout",
       "text": [
        "\n",
        "http://www.linguasport.com/futbol/internacional/mundial/seekff.asp?pn=10"
       ]
      },
      {
       "output_type": "stream",
       "stream": "stdout",
       "text": [
        "\n",
        "http://www.linguasport.com/futbol/internacional/mundial/seekff.asp?pn=11"
       ]
      },
      {
       "output_type": "stream",
       "stream": "stdout",
       "text": [
        "\n",
        "http://www.linguasport.com/futbol/internacional/mundial/seekff.asp?pn=12"
       ]
      },
      {
       "output_type": "stream",
       "stream": "stdout",
       "text": [
        "\n",
        "http://www.linguasport.com/futbol/internacional/mundial/seekff.asp?pn=13"
       ]
      },
      {
       "output_type": "stream",
       "stream": "stdout",
       "text": [
        "\n",
        "http://www.linguasport.com/futbol/internacional/mundial/seekff.asp?pn=14"
       ]
      },
      {
       "output_type": "stream",
       "stream": "stdout",
       "text": [
        "\n",
        "http://www.linguasport.com/futbol/internacional/mundial/seekff.asp?pn=15"
       ]
      },
      {
       "output_type": "stream",
       "stream": "stdout",
       "text": [
        "\n",
        "http://www.linguasport.com/futbol/internacional/mundial/seekff.asp?pn=16"
       ]
      },
      {
       "output_type": "stream",
       "stream": "stdout",
       "text": [
        "\n",
        "http://www.linguasport.com/futbol/internacional/mundial/seekff.asp?pn=17"
       ]
      },
      {
       "output_type": "stream",
       "stream": "stdout",
       "text": [
        "\n",
        "http://www.linguasport.com/futbol/internacional/mundial/seekff.asp?pn=18"
       ]
      },
      {
       "output_type": "stream",
       "stream": "stdout",
       "text": [
        "\n",
        "http://www.linguasport.com/futbol/internacional/mundial/seekff.asp?pn=19"
       ]
      },
      {
       "output_type": "stream",
       "stream": "stdout",
       "text": [
        "\n",
        "http://www.linguasport.com/futbol/internacional/mundial/seekff.asp?pn=20"
       ]
      },
      {
       "output_type": "stream",
       "stream": "stdout",
       "text": [
        "\n",
        "http://www.linguasport.com/futbol/internacional/mundial/seekff.asp?pn=21"
       ]
      },
      {
       "output_type": "stream",
       "stream": "stdout",
       "text": [
        "\n",
        "http://www.linguasport.com/futbol/internacional/mundial/seekff.asp?pn=22"
       ]
      },
      {
       "output_type": "stream",
       "stream": "stdout",
       "text": [
        "\n",
        "http://www.linguasport.com/futbol/internacional/mundial/seekff.asp?pn=23"
       ]
      },
      {
       "output_type": "stream",
       "stream": "stdout",
       "text": [
        "\n",
        "http://www.linguasport.com/futbol/internacional/mundial/seekff.asp?pn=24"
       ]
      },
      {
       "output_type": "stream",
       "stream": "stdout",
       "text": [
        "\n",
        "http://www.linguasport.com/futbol/internacional/mundial/seekff.asp?pn=25"
       ]
      },
      {
       "output_type": "stream",
       "stream": "stdout",
       "text": [
        "\n",
        "http://www.linguasport.com/futbol/internacional/mundial/seekff.asp?pn=26"
       ]
      },
      {
       "output_type": "stream",
       "stream": "stdout",
       "text": [
        "\n",
        "http://www.linguasport.com/futbol/internacional/mundial/seekff.asp?pn=27"
       ]
      },
      {
       "output_type": "stream",
       "stream": "stdout",
       "text": [
        "\n",
        "http://www.linguasport.com/futbol/internacional/mundial/seekff.asp?pn=28"
       ]
      },
      {
       "output_type": "stream",
       "stream": "stdout",
       "text": [
        "\n",
        "http://www.linguasport.com/futbol/internacional/mundial/seekff.asp?pn=29"
       ]
      },
      {
       "output_type": "stream",
       "stream": "stdout",
       "text": [
        "\n",
        "http://www.linguasport.com/futbol/internacional/mundial/seekff.asp?pn=30"
       ]
      },
      {
       "output_type": "stream",
       "stream": "stdout",
       "text": [
        "\n",
        "http://www.linguasport.com/futbol/internacional/mundial/seekff.asp?pn=31"
       ]
      },
      {
       "output_type": "stream",
       "stream": "stdout",
       "text": [
        "\n",
        "http://www.linguasport.com/futbol/internacional/mundial/seekff.asp?pn=32"
       ]
      },
      {
       "output_type": "stream",
       "stream": "stdout",
       "text": [
        "\n",
        "http://www.linguasport.com/futbol/internacional/mundial/seekff.asp?pn=33"
       ]
      },
      {
       "output_type": "stream",
       "stream": "stdout",
       "text": [
        "\n",
        "http://www.linguasport.com/futbol/internacional/mundial/seekff.asp?pn=34"
       ]
      },
      {
       "output_type": "stream",
       "stream": "stdout",
       "text": [
        "\n",
        "http://www.linguasport.com/futbol/internacional/mundial/seekff.asp?pn=35"
       ]
      },
      {
       "output_type": "stream",
       "stream": "stdout",
       "text": [
        "\n",
        "http://www.linguasport.com/futbol/internacional/mundial/seekff.asp?pn=36"
       ]
      },
      {
       "output_type": "stream",
       "stream": "stdout",
       "text": [
        "\n",
        "http://www.linguasport.com/futbol/internacional/mundial/seekff.asp?pn=37"
       ]
      },
      {
       "output_type": "stream",
       "stream": "stdout",
       "text": [
        "\n",
        "http://www.linguasport.com/futbol/internacional/mundial/seekff.asp?pn=38"
       ]
      },
      {
       "output_type": "stream",
       "stream": "stdout",
       "text": [
        "\n",
        "http://www.linguasport.com/futbol/internacional/mundial/seekff.asp?pn=39"
       ]
      },
      {
       "output_type": "stream",
       "stream": "stdout",
       "text": [
        "\n",
        "http://www.linguasport.com/futbol/internacional/mundial/seekff.asp?pn=40"
       ]
      },
      {
       "output_type": "stream",
       "stream": "stdout",
       "text": [
        "\n",
        "http://www.linguasport.com/futbol/internacional/mundial/seekff.asp?pn=41"
       ]
      },
      {
       "output_type": "stream",
       "stream": "stdout",
       "text": [
        "\n",
        "http://www.linguasport.com/futbol/internacional/mundial/seekff.asp?pn=42"
       ]
      },
      {
       "output_type": "stream",
       "stream": "stdout",
       "text": [
        "\n",
        "http://www.linguasport.com/futbol/internacional/mundial/seekff.asp?pn=43"
       ]
      },
      {
       "output_type": "stream",
       "stream": "stdout",
       "text": [
        "\n",
        "http://www.linguasport.com/futbol/internacional/mundial/seekff.asp?pn=44"
       ]
      },
      {
       "output_type": "stream",
       "stream": "stdout",
       "text": [
        "\n",
        "http://www.linguasport.com/futbol/internacional/mundial/seekff.asp?pn=45"
       ]
      },
      {
       "output_type": "stream",
       "stream": "stdout",
       "text": [
        "\n",
        "http://www.linguasport.com/futbol/internacional/mundial/seekff.asp?pn=46"
       ]
      },
      {
       "output_type": "stream",
       "stream": "stdout",
       "text": [
        "\n",
        "http://www.linguasport.com/futbol/internacional/mundial/seekff.asp?pn=47"
       ]
      },
      {
       "output_type": "stream",
       "stream": "stdout",
       "text": [
        "\n",
        "http://www.linguasport.com/futbol/internacional/mundial/seekff.asp?pn=48"
       ]
      },
      {
       "output_type": "stream",
       "stream": "stdout",
       "text": [
        "\n",
        "http://www.linguasport.com/futbol/internacional/mundial/seekff.asp?pn=49"
       ]
      },
      {
       "output_type": "stream",
       "stream": "stdout",
       "text": [
        "\n",
        "http://www.linguasport.com/futbol/internacional/mundial/seekff.asp?pn=50"
       ]
      },
      {
       "output_type": "stream",
       "stream": "stdout",
       "text": [
        "\n",
        "http://www.linguasport.com/futbol/internacional/mundial/seekff.asp?pn=51"
       ]
      },
      {
       "output_type": "stream",
       "stream": "stdout",
       "text": [
        "\n",
        "http://www.linguasport.com/futbol/internacional/mundial/seekff.asp?pn=52"
       ]
      },
      {
       "output_type": "stream",
       "stream": "stdout",
       "text": [
        "\n",
        "http://www.linguasport.com/futbol/internacional/mundial/seekff.asp?pn=53"
       ]
      },
      {
       "output_type": "stream",
       "stream": "stdout",
       "text": [
        "\n",
        "http://www.linguasport.com/futbol/internacional/mundial/seekff.asp?pn=54"
       ]
      },
      {
       "output_type": "stream",
       "stream": "stdout",
       "text": [
        "\n",
        "http://www.linguasport.com/futbol/internacional/mundial/seekff.asp?pn=55"
       ]
      },
      {
       "output_type": "stream",
       "stream": "stdout",
       "text": [
        "\n",
        "http://www.linguasport.com/futbol/internacional/mundial/seekff.asp?pn=56"
       ]
      },
      {
       "output_type": "stream",
       "stream": "stdout",
       "text": [
        "\n",
        "http://www.linguasport.com/futbol/internacional/mundial/seekff.asp?pn=57"
       ]
      },
      {
       "output_type": "stream",
       "stream": "stdout",
       "text": [
        "\n",
        "http://www.linguasport.com/futbol/internacional/mundial/seekff.asp?pn=58"
       ]
      },
      {
       "output_type": "stream",
       "stream": "stdout",
       "text": [
        "\n",
        "http://www.linguasport.com/futbol/internacional/mundial/seekff.asp?pn=59"
       ]
      },
      {
       "output_type": "stream",
       "stream": "stdout",
       "text": [
        "\n",
        "http://www.linguasport.com/futbol/internacional/mundial/seekff.asp?pn=60"
       ]
      },
      {
       "output_type": "stream",
       "stream": "stdout",
       "text": [
        "\n",
        "http://www.linguasport.com/futbol/internacional/mundial/seekff.asp?pn=61"
       ]
      },
      {
       "output_type": "stream",
       "stream": "stdout",
       "text": [
        "\n",
        "http://www.linguasport.com/futbol/internacional/mundial/seekff.asp?pn=62"
       ]
      },
      {
       "output_type": "stream",
       "stream": "stdout",
       "text": [
        "\n",
        "http://www.linguasport.com/futbol/internacional/mundial/seekff.asp?pn=63"
       ]
      },
      {
       "output_type": "stream",
       "stream": "stdout",
       "text": [
        "\n",
        "http://www.linguasport.com/futbol/internacional/mundial/seekff.asp?pn=64"
       ]
      },
      {
       "output_type": "stream",
       "stream": "stdout",
       "text": [
        "\n",
        "http://www.linguasport.com/futbol/internacional/mundial/seekff.asp?pn=65"
       ]
      },
      {
       "output_type": "stream",
       "stream": "stdout",
       "text": [
        "\n",
        "http://www.linguasport.com/futbol/internacional/mundial/seekff.asp?pn=66"
       ]
      },
      {
       "output_type": "stream",
       "stream": "stdout",
       "text": [
        "\n",
        "http://www.linguasport.com/futbol/internacional/mundial/seekff.asp?pn=67"
       ]
      },
      {
       "output_type": "stream",
       "stream": "stdout",
       "text": [
        "\n",
        "http://www.linguasport.com/futbol/internacional/mundial/seekff.asp?pn=68"
       ]
      },
      {
       "output_type": "stream",
       "stream": "stdout",
       "text": [
        "\n",
        "http://www.linguasport.com/futbol/internacional/mundial/seekff.asp?pn=69"
       ]
      },
      {
       "output_type": "stream",
       "stream": "stdout",
       "text": [
        "\n",
        "http://www.linguasport.com/futbol/internacional/mundial/seekff.asp?pn=70"
       ]
      },
      {
       "output_type": "stream",
       "stream": "stdout",
       "text": [
        "\n",
        "http://www.linguasport.com/futbol/internacional/mundial/seekff.asp?pn=71"
       ]
      },
      {
       "output_type": "stream",
       "stream": "stdout",
       "text": [
        "\n",
        "http://www.linguasport.com/futbol/internacional/mundial/seekff.asp?pn=72"
       ]
      },
      {
       "output_type": "stream",
       "stream": "stdout",
       "text": [
        "\n",
        "http://www.linguasport.com/futbol/internacional/mundial/seekff.asp?pn=73"
       ]
      },
      {
       "output_type": "stream",
       "stream": "stdout",
       "text": [
        "\n",
        "http://www.linguasport.com/futbol/internacional/mundial/seekff.asp?pn=74"
       ]
      },
      {
       "output_type": "stream",
       "stream": "stdout",
       "text": [
        "\n",
        "http://www.linguasport.com/futbol/internacional/mundial/seekff.asp?pn=75"
       ]
      },
      {
       "output_type": "stream",
       "stream": "stdout",
       "text": [
        "\n",
        "http://www.linguasport.com/futbol/internacional/mundial/seekff.asp?pn=76"
       ]
      },
      {
       "output_type": "stream",
       "stream": "stdout",
       "text": [
        "\n",
        "http://www.linguasport.com/futbol/internacional/mundial/seekff.asp?pn=77"
       ]
      },
      {
       "output_type": "stream",
       "stream": "stdout",
       "text": [
        "\n",
        "http://www.linguasport.com/futbol/internacional/mundial/seekff.asp?pn=78"
       ]
      },
      {
       "output_type": "stream",
       "stream": "stdout",
       "text": [
        "\n",
        "http://www.linguasport.com/futbol/internacional/mundial/seekff.asp?pn=79"
       ]
      },
      {
       "output_type": "stream",
       "stream": "stdout",
       "text": [
        "\n",
        "http://www.linguasport.com/futbol/internacional/mundial/seekff.asp?pn=80"
       ]
      },
      {
       "output_type": "stream",
       "stream": "stdout",
       "text": [
        "\n",
        "http://www.linguasport.com/futbol/internacional/mundial/seekff.asp?pn=81"
       ]
      },
      {
       "output_type": "stream",
       "stream": "stdout",
       "text": [
        "\n",
        "http://www.linguasport.com/futbol/internacional/mundial/seekff.asp?pn=82"
       ]
      },
      {
       "output_type": "stream",
       "stream": "stdout",
       "text": [
        "\n",
        "http://www.linguasport.com/futbol/internacional/mundial/seekff.asp?pn=83"
       ]
      },
      {
       "output_type": "stream",
       "stream": "stdout",
       "text": [
        "\n",
        "http://www.linguasport.com/futbol/internacional/mundial/seekff.asp?pn=84"
       ]
      },
      {
       "output_type": "stream",
       "stream": "stdout",
       "text": [
        "\n",
        "http://www.linguasport.com/futbol/internacional/mundial/seekff.asp?pn=85"
       ]
      },
      {
       "output_type": "stream",
       "stream": "stdout",
       "text": [
        "\n",
        "http://www.linguasport.com/futbol/internacional/mundial/seekff.asp?pn=86"
       ]
      },
      {
       "output_type": "stream",
       "stream": "stdout",
       "text": [
        "\n",
        "http://www.linguasport.com/futbol/internacional/mundial/seekff.asp?pn=87"
       ]
      },
      {
       "output_type": "stream",
       "stream": "stdout",
       "text": [
        "\n",
        "http://www.linguasport.com/futbol/internacional/mundial/seekff.asp?pn=88"
       ]
      },
      {
       "output_type": "stream",
       "stream": "stdout",
       "text": [
        "\n",
        "http://www.linguasport.com/futbol/internacional/mundial/seekff.asp?pn=89"
       ]
      },
      {
       "output_type": "stream",
       "stream": "stdout",
       "text": [
        "\n",
        "http://www.linguasport.com/futbol/internacional/mundial/seekff.asp?pn=90"
       ]
      },
      {
       "output_type": "stream",
       "stream": "stdout",
       "text": [
        "\n",
        "http://www.linguasport.com/futbol/internacional/mundial/seekff.asp?pn=91"
       ]
      },
      {
       "output_type": "stream",
       "stream": "stdout",
       "text": [
        "\n",
        "http://www.linguasport.com/futbol/internacional/mundial/seekff.asp?pn=92"
       ]
      },
      {
       "output_type": "stream",
       "stream": "stdout",
       "text": [
        "\n",
        "http://www.linguasport.com/futbol/internacional/mundial/seekff.asp?pn=93"
       ]
      },
      {
       "output_type": "stream",
       "stream": "stdout",
       "text": [
        "\n",
        "http://www.linguasport.com/futbol/internacional/mundial/seekff.asp?pn=94"
       ]
      },
      {
       "output_type": "stream",
       "stream": "stdout",
       "text": [
        "\n",
        "http://www.linguasport.com/futbol/internacional/mundial/seekff.asp?pn=95"
       ]
      },
      {
       "output_type": "stream",
       "stream": "stdout",
       "text": [
        "\n",
        "http://www.linguasport.com/futbol/internacional/mundial/seekff.asp?pn=96"
       ]
      },
      {
       "output_type": "stream",
       "stream": "stdout",
       "text": [
        "\n",
        "http://www.linguasport.com/futbol/internacional/mundial/seekff.asp?pn=97"
       ]
      },
      {
       "output_type": "stream",
       "stream": "stdout",
       "text": [
        "\n",
        "http://www.linguasport.com/futbol/internacional/mundial/seekff.asp?pn=98"
       ]
      },
      {
       "output_type": "stream",
       "stream": "stdout",
       "text": [
        "\n",
        "http://www.linguasport.com/futbol/internacional/mundial/seekff.asp?pn=99"
       ]
      },
      {
       "output_type": "stream",
       "stream": "stdout",
       "text": [
        "\n",
        "http://www.linguasport.com/futbol/internacional/mundial/seekff.asp?pn=100"
       ]
      },
      {
       "output_type": "stream",
       "stream": "stdout",
       "text": [
        "\n",
        "http://www.linguasport.com/futbol/internacional/mundial/seekff.asp?pn=101"
       ]
      },
      {
       "output_type": "stream",
       "stream": "stdout",
       "text": [
        "\n",
        "http://www.linguasport.com/futbol/internacional/mundial/seekff.asp?pn=102"
       ]
      },
      {
       "output_type": "stream",
       "stream": "stdout",
       "text": [
        "\n",
        "http://www.linguasport.com/futbol/internacional/mundial/seekff.asp?pn=103"
       ]
      },
      {
       "output_type": "stream",
       "stream": "stdout",
       "text": [
        "\n",
        "http://www.linguasport.com/futbol/internacional/mundial/seekff.asp?pn=104"
       ]
      },
      {
       "output_type": "stream",
       "stream": "stdout",
       "text": [
        "\n",
        "http://www.linguasport.com/futbol/internacional/mundial/seekff.asp?pn=105"
       ]
      },
      {
       "output_type": "stream",
       "stream": "stdout",
       "text": [
        "\n",
        "http://www.linguasport.com/futbol/internacional/mundial/seekff.asp?pn=106"
       ]
      },
      {
       "output_type": "stream",
       "stream": "stdout",
       "text": [
        "\n",
        "http://www.linguasport.com/futbol/internacional/mundial/seekff.asp?pn=107"
       ]
      },
      {
       "output_type": "stream",
       "stream": "stdout",
       "text": [
        "\n",
        "http://www.linguasport.com/futbol/internacional/mundial/seekff.asp?pn=108"
       ]
      },
      {
       "output_type": "stream",
       "stream": "stdout",
       "text": [
        "\n",
        "http://www.linguasport.com/futbol/internacional/mundial/seekff.asp?pn=109"
       ]
      },
      {
       "output_type": "stream",
       "stream": "stdout",
       "text": [
        "\n",
        "http://www.linguasport.com/futbol/internacional/mundial/seekff.asp?pn=110"
       ]
      },
      {
       "output_type": "stream",
       "stream": "stdout",
       "text": [
        "\n",
        "http://www.linguasport.com/futbol/internacional/mundial/seekff.asp?pn=111"
       ]
      },
      {
       "output_type": "stream",
       "stream": "stdout",
       "text": [
        "\n",
        "http://www.linguasport.com/futbol/internacional/mundial/seekff.asp?pn=112"
       ]
      },
      {
       "output_type": "stream",
       "stream": "stdout",
       "text": [
        "\n",
        "http://www.linguasport.com/futbol/internacional/mundial/seekff.asp?pn=113"
       ]
      },
      {
       "output_type": "stream",
       "stream": "stdout",
       "text": [
        "\n",
        "http://www.linguasport.com/futbol/internacional/mundial/seekff.asp?pn=114"
       ]
      },
      {
       "output_type": "stream",
       "stream": "stdout",
       "text": [
        "\n",
        "http://www.linguasport.com/futbol/internacional/mundial/seekff.asp?pn=115"
       ]
      },
      {
       "output_type": "stream",
       "stream": "stdout",
       "text": [
        "\n",
        "http://www.linguasport.com/futbol/internacional/mundial/seekff.asp?pn=116"
       ]
      },
      {
       "output_type": "stream",
       "stream": "stdout",
       "text": [
        "\n",
        "http://www.linguasport.com/futbol/internacional/mundial/seekff.asp?pn=117"
       ]
      },
      {
       "output_type": "stream",
       "stream": "stdout",
       "text": [
        "\n",
        "http://www.linguasport.com/futbol/internacional/mundial/seekff.asp?pn=118"
       ]
      },
      {
       "output_type": "stream",
       "stream": "stdout",
       "text": [
        "\n",
        "http://www.linguasport.com/futbol/internacional/mundial/seekff.asp?pn=119"
       ]
      },
      {
       "output_type": "stream",
       "stream": "stdout",
       "text": [
        "\n",
        "http://www.linguasport.com/futbol/internacional/mundial/seekff.asp?pn=120"
       ]
      },
      {
       "output_type": "stream",
       "stream": "stdout",
       "text": [
        "\n",
        "http://www.linguasport.com/futbol/internacional/mundial/seekff.asp?pn=121"
       ]
      },
      {
       "output_type": "stream",
       "stream": "stdout",
       "text": [
        "\n",
        "http://www.linguasport.com/futbol/internacional/mundial/seekff.asp?pn=122"
       ]
      },
      {
       "output_type": "stream",
       "stream": "stdout",
       "text": [
        "\n",
        "http://www.linguasport.com/futbol/internacional/mundial/seekff.asp?pn=123"
       ]
      },
      {
       "output_type": "stream",
       "stream": "stdout",
       "text": [
        "\n",
        "http://www.linguasport.com/futbol/internacional/mundial/seekff.asp?pn=124"
       ]
      },
      {
       "output_type": "stream",
       "stream": "stdout",
       "text": [
        "\n",
        "http://www.linguasport.com/futbol/internacional/mundial/seekff.asp?pn=125"
       ]
      },
      {
       "output_type": "stream",
       "stream": "stdout",
       "text": [
        "\n",
        "http://www.linguasport.com/futbol/internacional/mundial/seekff.asp?pn=126"
       ]
      },
      {
       "output_type": "stream",
       "stream": "stdout",
       "text": [
        "\n",
        "http://www.linguasport.com/futbol/internacional/mundial/seekff.asp?pn=127"
       ]
      },
      {
       "output_type": "stream",
       "stream": "stdout",
       "text": [
        "\n",
        "http://www.linguasport.com/futbol/internacional/mundial/seekff.asp?pn=128"
       ]
      },
      {
       "output_type": "stream",
       "stream": "stdout",
       "text": [
        "\n",
        "http://www.linguasport.com/futbol/internacional/mundial/seekff.asp?pn=129"
       ]
      },
      {
       "output_type": "stream",
       "stream": "stdout",
       "text": [
        "\n",
        "http://www.linguasport.com/futbol/internacional/mundial/seekff.asp?pn=130"
       ]
      },
      {
       "output_type": "stream",
       "stream": "stdout",
       "text": [
        "\n",
        "http://www.linguasport.com/futbol/internacional/mundial/seekff.asp?pn=131"
       ]
      },
      {
       "output_type": "stream",
       "stream": "stdout",
       "text": [
        "\n",
        "http://www.linguasport.com/futbol/internacional/mundial/seekff.asp?pn=132"
       ]
      },
      {
       "output_type": "stream",
       "stream": "stdout",
       "text": [
        "\n",
        "http://www.linguasport.com/futbol/internacional/mundial/seekff.asp?pn=133"
       ]
      },
      {
       "output_type": "stream",
       "stream": "stdout",
       "text": [
        "\n",
        "http://www.linguasport.com/futbol/internacional/mundial/seekff.asp?pn=134"
       ]
      },
      {
       "output_type": "stream",
       "stream": "stdout",
       "text": [
        "\n",
        "http://www.linguasport.com/futbol/internacional/mundial/seekff.asp?pn=135"
       ]
      },
      {
       "output_type": "stream",
       "stream": "stdout",
       "text": [
        "\n",
        "http://www.linguasport.com/futbol/internacional/mundial/seekff.asp?pn=136"
       ]
      },
      {
       "output_type": "stream",
       "stream": "stdout",
       "text": [
        "\n",
        "http://www.linguasport.com/futbol/internacional/mundial/seekff.asp?pn=137"
       ]
      },
      {
       "output_type": "stream",
       "stream": "stdout",
       "text": [
        "\n",
        "http://www.linguasport.com/futbol/internacional/mundial/seekff.asp?pn=138"
       ]
      },
      {
       "output_type": "stream",
       "stream": "stdout",
       "text": [
        "\n",
        "http://www.linguasport.com/futbol/internacional/mundial/seekff.asp?pn=139"
       ]
      },
      {
       "output_type": "stream",
       "stream": "stdout",
       "text": [
        "\n",
        "http://www.linguasport.com/futbol/internacional/mundial/seekff.asp?pn=140"
       ]
      },
      {
       "output_type": "stream",
       "stream": "stdout",
       "text": [
        "\n",
        "http://www.linguasport.com/futbol/internacional/mundial/seekff.asp?pn=141"
       ]
      },
      {
       "output_type": "stream",
       "stream": "stdout",
       "text": [
        "\n",
        "http://www.linguasport.com/futbol/internacional/mundial/seekff.asp?pn=142"
       ]
      },
      {
       "output_type": "stream",
       "stream": "stdout",
       "text": [
        "\n",
        "http://www.linguasport.com/futbol/internacional/mundial/seekff.asp?pn=143"
       ]
      },
      {
       "output_type": "stream",
       "stream": "stdout",
       "text": [
        "\n",
        "http://www.linguasport.com/futbol/internacional/mundial/seekff.asp?pn=144"
       ]
      },
      {
       "output_type": "stream",
       "stream": "stdout",
       "text": [
        "\n",
        "http://www.linguasport.com/futbol/internacional/mundial/seekff.asp?pn=145"
       ]
      },
      {
       "output_type": "stream",
       "stream": "stdout",
       "text": [
        "\n",
        "http://www.linguasport.com/futbol/internacional/mundial/seekff.asp?pn=146"
       ]
      },
      {
       "output_type": "stream",
       "stream": "stdout",
       "text": [
        "\n",
        "http://www.linguasport.com/futbol/internacional/mundial/seekff.asp?pn=147"
       ]
      },
      {
       "output_type": "stream",
       "stream": "stdout",
       "text": [
        "\n",
        "http://www.linguasport.com/futbol/internacional/mundial/seekff.asp?pn=148"
       ]
      },
      {
       "output_type": "stream",
       "stream": "stdout",
       "text": [
        "\n",
        "http://www.linguasport.com/futbol/internacional/mundial/seekff.asp?pn=149"
       ]
      },
      {
       "output_type": "stream",
       "stream": "stdout",
       "text": [
        "\n",
        "http://www.linguasport.com/futbol/internacional/mundial/seekff.asp?pn=150"
       ]
      },
      {
       "output_type": "stream",
       "stream": "stdout",
       "text": [
        "\n",
        "http://www.linguasport.com/futbol/internacional/mundial/seekff.asp?pn=151"
       ]
      },
      {
       "output_type": "stream",
       "stream": "stdout",
       "text": [
        "\n",
        "http://www.linguasport.com/futbol/internacional/mundial/seekff.asp?pn=152"
       ]
      },
      {
       "output_type": "stream",
       "stream": "stdout",
       "text": [
        "\n",
        "http://www.linguasport.com/futbol/internacional/mundial/seekff.asp?pn=153"
       ]
      },
      {
       "output_type": "stream",
       "stream": "stdout",
       "text": [
        "\n",
        "http://www.linguasport.com/futbol/internacional/mundial/seekff.asp?pn=154"
       ]
      },
      {
       "output_type": "stream",
       "stream": "stdout",
       "text": [
        "\n",
        "http://www.linguasport.com/futbol/internacional/mundial/seekff.asp?pn=155"
       ]
      },
      {
       "output_type": "stream",
       "stream": "stdout",
       "text": [
        "\n",
        "http://www.linguasport.com/futbol/internacional/mundial/seekff.asp?pn=156"
       ]
      },
      {
       "output_type": "stream",
       "stream": "stdout",
       "text": [
        "\n",
        "http://www.linguasport.com/futbol/internacional/mundial/seekff.asp?pn=157"
       ]
      },
      {
       "output_type": "stream",
       "stream": "stdout",
       "text": [
        "\n",
        "http://www.linguasport.com/futbol/internacional/mundial/seekff.asp?pn=158"
       ]
      },
      {
       "output_type": "stream",
       "stream": "stdout",
       "text": [
        "\n",
        "http://www.linguasport.com/futbol/internacional/mundial/seekff.asp?pn=159"
       ]
      },
      {
       "output_type": "stream",
       "stream": "stdout",
       "text": [
        "\n",
        "http://www.linguasport.com/futbol/internacional/mundial/seekff.asp?pn=160"
       ]
      },
      {
       "output_type": "stream",
       "stream": "stdout",
       "text": [
        "\n",
        "http://www.linguasport.com/futbol/internacional/mundial/seekff.asp?pn=161"
       ]
      },
      {
       "output_type": "stream",
       "stream": "stdout",
       "text": [
        "\n",
        "http://www.linguasport.com/futbol/internacional/mundial/seekff.asp?pn=162"
       ]
      },
      {
       "output_type": "stream",
       "stream": "stdout",
       "text": [
        "\n",
        "http://www.linguasport.com/futbol/internacional/mundial/seekff.asp?pn=163"
       ]
      },
      {
       "output_type": "stream",
       "stream": "stdout",
       "text": [
        "\n",
        "http://www.linguasport.com/futbol/internacional/mundial/seekff.asp?pn=164"
       ]
      },
      {
       "output_type": "stream",
       "stream": "stdout",
       "text": [
        "\n",
        "http://www.linguasport.com/futbol/internacional/mundial/seekff.asp?pn=165"
       ]
      },
      {
       "output_type": "stream",
       "stream": "stdout",
       "text": [
        "\n",
        "http://www.linguasport.com/futbol/internacional/mundial/seekff.asp?pn=166"
       ]
      },
      {
       "output_type": "stream",
       "stream": "stdout",
       "text": [
        "\n",
        "http://www.linguasport.com/futbol/internacional/mundial/seekff.asp?pn=167"
       ]
      },
      {
       "output_type": "stream",
       "stream": "stdout",
       "text": [
        "\n",
        "http://www.linguasport.com/futbol/internacional/mundial/seekff.asp?pn=168"
       ]
      },
      {
       "output_type": "stream",
       "stream": "stdout",
       "text": [
        "\n",
        "http://www.linguasport.com/futbol/internacional/mundial/seekff.asp?pn=169"
       ]
      },
      {
       "output_type": "stream",
       "stream": "stdout",
       "text": [
        "\n",
        "http://www.linguasport.com/futbol/internacional/mundial/seekff.asp?pn=170"
       ]
      },
      {
       "output_type": "stream",
       "stream": "stdout",
       "text": [
        "\n",
        "http://www.linguasport.com/futbol/internacional/mundial/seekff.asp?pn=171"
       ]
      },
      {
       "output_type": "stream",
       "stream": "stdout",
       "text": [
        "\n",
        "http://www.linguasport.com/futbol/internacional/mundial/seekff.asp?pn=172"
       ]
      },
      {
       "output_type": "stream",
       "stream": "stdout",
       "text": [
        "\n",
        "http://www.linguasport.com/futbol/internacional/mundial/seekff.asp?pn=173"
       ]
      },
      {
       "output_type": "stream",
       "stream": "stdout",
       "text": [
        "\n",
        "http://www.linguasport.com/futbol/internacional/mundial/seekff.asp?pn=174"
       ]
      },
      {
       "output_type": "stream",
       "stream": "stdout",
       "text": [
        "\n",
        "http://www.linguasport.com/futbol/internacional/mundial/seekff.asp?pn=175"
       ]
      },
      {
       "output_type": "stream",
       "stream": "stdout",
       "text": [
        "\n",
        "http://www.linguasport.com/futbol/internacional/mundial/seekff.asp?pn=176"
       ]
      },
      {
       "output_type": "stream",
       "stream": "stdout",
       "text": [
        "\n",
        "http://www.linguasport.com/futbol/internacional/mundial/seekff.asp?pn=177"
       ]
      },
      {
       "output_type": "stream",
       "stream": "stdout",
       "text": [
        "\n",
        "http://www.linguasport.com/futbol/internacional/mundial/seekff.asp?pn=178"
       ]
      },
      {
       "output_type": "stream",
       "stream": "stdout",
       "text": [
        "\n",
        "http://www.linguasport.com/futbol/internacional/mundial/seekff.asp?pn=179"
       ]
      },
      {
       "output_type": "stream",
       "stream": "stdout",
       "text": [
        "\n",
        "http://www.linguasport.com/futbol/internacional/mundial/seekff.asp?pn=180"
       ]
      },
      {
       "output_type": "stream",
       "stream": "stdout",
       "text": [
        "\n",
        "http://www.linguasport.com/futbol/internacional/mundial/seekff.asp?pn=181"
       ]
      },
      {
       "output_type": "stream",
       "stream": "stdout",
       "text": [
        "\n",
        "http://www.linguasport.com/futbol/internacional/mundial/seekff.asp?pn=182"
       ]
      },
      {
       "output_type": "stream",
       "stream": "stdout",
       "text": [
        "\n",
        "http://www.linguasport.com/futbol/internacional/mundial/seekff.asp?pn=183"
       ]
      },
      {
       "output_type": "stream",
       "stream": "stdout",
       "text": [
        "\n",
        "http://www.linguasport.com/futbol/internacional/mundial/seekff.asp?pn=184"
       ]
      },
      {
       "output_type": "stream",
       "stream": "stdout",
       "text": [
        "\n",
        "http://www.linguasport.com/futbol/internacional/mundial/seekff.asp?pn=185"
       ]
      },
      {
       "output_type": "stream",
       "stream": "stdout",
       "text": [
        "\n",
        "http://www.linguasport.com/futbol/internacional/mundial/seekff.asp?pn=186"
       ]
      },
      {
       "output_type": "stream",
       "stream": "stdout",
       "text": [
        "\n",
        "http://www.linguasport.com/futbol/internacional/mundial/seekff.asp?pn=187"
       ]
      },
      {
       "output_type": "stream",
       "stream": "stdout",
       "text": [
        "\n",
        "http://www.linguasport.com/futbol/internacional/mundial/seekff.asp?pn=188"
       ]
      },
      {
       "output_type": "stream",
       "stream": "stdout",
       "text": [
        "\n",
        "http://www.linguasport.com/futbol/internacional/mundial/seekff.asp?pn=189"
       ]
      },
      {
       "output_type": "stream",
       "stream": "stdout",
       "text": [
        "\n",
        "http://www.linguasport.com/futbol/internacional/mundial/seekff.asp?pn=190"
       ]
      },
      {
       "output_type": "stream",
       "stream": "stdout",
       "text": [
        "\n",
        "http://www.linguasport.com/futbol/internacional/mundial/seekff.asp?pn=191"
       ]
      },
      {
       "output_type": "stream",
       "stream": "stdout",
       "text": [
        "\n",
        "http://www.linguasport.com/futbol/internacional/mundial/seekff.asp?pn=192"
       ]
      },
      {
       "output_type": "stream",
       "stream": "stdout",
       "text": [
        "\n",
        "http://www.linguasport.com/futbol/internacional/mundial/seekff.asp?pn=193"
       ]
      },
      {
       "output_type": "stream",
       "stream": "stdout",
       "text": [
        "\n",
        "http://www.linguasport.com/futbol/internacional/mundial/seekff.asp?pn=194"
       ]
      },
      {
       "output_type": "stream",
       "stream": "stdout",
       "text": [
        "\n",
        "http://www.linguasport.com/futbol/internacional/mundial/seekff.asp?pn=195"
       ]
      },
      {
       "output_type": "stream",
       "stream": "stdout",
       "text": [
        "\n",
        "http://www.linguasport.com/futbol/internacional/mundial/seekff.asp?pn=196"
       ]
      },
      {
       "output_type": "stream",
       "stream": "stdout",
       "text": [
        "\n",
        "http://www.linguasport.com/futbol/internacional/mundial/seekff.asp?pn=197"
       ]
      },
      {
       "output_type": "stream",
       "stream": "stdout",
       "text": [
        "\n",
        "http://www.linguasport.com/futbol/internacional/mundial/seekff.asp?pn=198"
       ]
      },
      {
       "output_type": "stream",
       "stream": "stdout",
       "text": [
        "\n",
        "http://www.linguasport.com/futbol/internacional/mundial/seekff.asp?pn=199"
       ]
      },
      {
       "output_type": "stream",
       "stream": "stdout",
       "text": [
        "\n",
        "http://www.linguasport.com/futbol/internacional/mundial/seekff.asp?pn=200"
       ]
      },
      {
       "output_type": "stream",
       "stream": "stdout",
       "text": [
        "\n",
        "http://www.linguasport.com/futbol/internacional/mundial/seekff.asp?pn=201"
       ]
      },
      {
       "output_type": "stream",
       "stream": "stdout",
       "text": [
        "\n",
        "http://www.linguasport.com/futbol/internacional/mundial/seekff.asp?pn=202"
       ]
      },
      {
       "output_type": "stream",
       "stream": "stdout",
       "text": [
        "\n",
        "http://www.linguasport.com/futbol/internacional/mundial/seekff.asp?pn=203"
       ]
      },
      {
       "output_type": "stream",
       "stream": "stdout",
       "text": [
        "\n",
        "http://www.linguasport.com/futbol/internacional/mundial/seekff.asp?pn=204"
       ]
      },
      {
       "output_type": "stream",
       "stream": "stdout",
       "text": [
        "\n",
        "http://www.linguasport.com/futbol/internacional/mundial/seekff.asp?pn=205"
       ]
      },
      {
       "output_type": "stream",
       "stream": "stdout",
       "text": [
        "\n",
        "http://www.linguasport.com/futbol/internacional/mundial/seekff.asp?pn=206"
       ]
      },
      {
       "output_type": "stream",
       "stream": "stdout",
       "text": [
        "\n",
        "http://www.linguasport.com/futbol/internacional/mundial/seekff.asp?pn=207"
       ]
      },
      {
       "output_type": "stream",
       "stream": "stdout",
       "text": [
        "\n",
        "http://www.linguasport.com/futbol/internacional/mundial/seekff.asp?pn=208"
       ]
      },
      {
       "output_type": "stream",
       "stream": "stdout",
       "text": [
        "\n",
        "http://www.linguasport.com/futbol/internacional/mundial/seekff.asp?pn=209"
       ]
      },
      {
       "output_type": "stream",
       "stream": "stdout",
       "text": [
        "\n",
        "http://www.linguasport.com/futbol/internacional/mundial/seekff.asp?pn=210"
       ]
      },
      {
       "output_type": "stream",
       "stream": "stdout",
       "text": [
        "\n",
        "http://www.linguasport.com/futbol/internacional/mundial/seekff.asp?pn=211"
       ]
      },
      {
       "output_type": "stream",
       "stream": "stdout",
       "text": [
        "\n",
        "http://www.linguasport.com/futbol/internacional/mundial/seekff.asp?pn=212"
       ]
      },
      {
       "output_type": "stream",
       "stream": "stdout",
       "text": [
        "\n",
        "http://www.linguasport.com/futbol/internacional/mundial/seekff.asp?pn=213"
       ]
      },
      {
       "output_type": "stream",
       "stream": "stdout",
       "text": [
        "\n",
        "http://www.linguasport.com/futbol/internacional/mundial/seekff.asp?pn=214"
       ]
      },
      {
       "output_type": "stream",
       "stream": "stdout",
       "text": [
        "\n",
        "http://www.linguasport.com/futbol/internacional/mundial/seekff.asp?pn=215"
       ]
      },
      {
       "output_type": "stream",
       "stream": "stdout",
       "text": [
        "\n",
        "http://www.linguasport.com/futbol/internacional/mundial/seekff.asp?pn=216"
       ]
      },
      {
       "output_type": "stream",
       "stream": "stdout",
       "text": [
        "\n",
        "http://www.linguasport.com/futbol/internacional/mundial/seekff.asp?pn=217"
       ]
      },
      {
       "output_type": "stream",
       "stream": "stdout",
       "text": [
        "\n",
        "http://www.linguasport.com/futbol/internacional/mundial/seekff.asp?pn=218"
       ]
      },
      {
       "output_type": "stream",
       "stream": "stdout",
       "text": [
        "\n",
        "http://www.linguasport.com/futbol/internacional/mundial/seekff.asp?pn=219"
       ]
      },
      {
       "output_type": "stream",
       "stream": "stdout",
       "text": [
        "\n",
        "http://www.linguasport.com/futbol/internacional/mundial/seekff.asp?pn=220"
       ]
      },
      {
       "output_type": "stream",
       "stream": "stdout",
       "text": [
        "\n",
        "http://www.linguasport.com/futbol/internacional/mundial/seekff.asp?pn=221"
       ]
      },
      {
       "output_type": "stream",
       "stream": "stdout",
       "text": [
        "\n",
        "http://www.linguasport.com/futbol/internacional/mundial/seekff.asp?pn=222"
       ]
      },
      {
       "output_type": "stream",
       "stream": "stdout",
       "text": [
        "\n",
        "http://www.linguasport.com/futbol/internacional/mundial/seekff.asp?pn=223"
       ]
      },
      {
       "output_type": "stream",
       "stream": "stdout",
       "text": [
        "\n",
        "http://www.linguasport.com/futbol/internacional/mundial/seekff.asp?pn=224"
       ]
      },
      {
       "output_type": "stream",
       "stream": "stdout",
       "text": [
        "\n",
        "http://www.linguasport.com/futbol/internacional/mundial/seekff.asp?pn=225"
       ]
      },
      {
       "output_type": "stream",
       "stream": "stdout",
       "text": [
        "\n",
        "http://www.linguasport.com/futbol/internacional/mundial/seekff.asp?pn=226"
       ]
      },
      {
       "output_type": "stream",
       "stream": "stdout",
       "text": [
        "\n",
        "http://www.linguasport.com/futbol/internacional/mundial/seekff.asp?pn=227"
       ]
      },
      {
       "output_type": "stream",
       "stream": "stdout",
       "text": [
        "\n",
        "http://www.linguasport.com/futbol/internacional/mundial/seekff.asp?pn=228"
       ]
      },
      {
       "output_type": "stream",
       "stream": "stdout",
       "text": [
        "\n",
        "http://www.linguasport.com/futbol/internacional/mundial/seekff.asp?pn=229"
       ]
      },
      {
       "output_type": "stream",
       "stream": "stdout",
       "text": [
        "\n",
        "http://www.linguasport.com/futbol/internacional/mundial/seekff.asp?pn=230"
       ]
      },
      {
       "output_type": "stream",
       "stream": "stdout",
       "text": [
        "\n",
        "http://www.linguasport.com/futbol/internacional/mundial/seekff.asp?pn=231"
       ]
      },
      {
       "output_type": "stream",
       "stream": "stdout",
       "text": [
        "\n",
        "http://www.linguasport.com/futbol/internacional/mundial/seekff.asp?pn=232"
       ]
      },
      {
       "output_type": "stream",
       "stream": "stdout",
       "text": [
        "\n",
        "http://www.linguasport.com/futbol/internacional/mundial/seekff.asp?pn=233"
       ]
      },
      {
       "output_type": "stream",
       "stream": "stdout",
       "text": [
        "\n",
        "http://www.linguasport.com/futbol/internacional/mundial/seekff.asp?pn=234"
       ]
      },
      {
       "output_type": "stream",
       "stream": "stdout",
       "text": [
        "\n",
        "http://www.linguasport.com/futbol/internacional/mundial/seekff.asp?pn=235"
       ]
      },
      {
       "output_type": "stream",
       "stream": "stdout",
       "text": [
        "\n",
        "http://www.linguasport.com/futbol/internacional/mundial/seekff.asp?pn=236"
       ]
      },
      {
       "output_type": "stream",
       "stream": "stdout",
       "text": [
        "\n",
        "http://www.linguasport.com/futbol/internacional/mundial/seekff.asp?pn=237"
       ]
      },
      {
       "output_type": "stream",
       "stream": "stdout",
       "text": [
        "\n",
        "http://www.linguasport.com/futbol/internacional/mundial/seekff.asp?pn=238"
       ]
      },
      {
       "output_type": "stream",
       "stream": "stdout",
       "text": [
        "\n",
        "http://www.linguasport.com/futbol/internacional/mundial/seekff.asp?pn=239"
       ]
      },
      {
       "output_type": "stream",
       "stream": "stdout",
       "text": [
        "\n",
        "http://www.linguasport.com/futbol/internacional/mundial/seekff.asp?pn=240"
       ]
      },
      {
       "output_type": "stream",
       "stream": "stdout",
       "text": [
        "\n",
        "http://www.linguasport.com/futbol/internacional/mundial/seekff.asp?pn=241"
       ]
      },
      {
       "output_type": "stream",
       "stream": "stdout",
       "text": [
        "\n",
        "http://www.linguasport.com/futbol/internacional/mundial/seekff.asp?pn=242"
       ]
      },
      {
       "output_type": "stream",
       "stream": "stdout",
       "text": [
        "\n",
        "http://www.linguasport.com/futbol/internacional/mundial/seekff.asp?pn=243"
       ]
      },
      {
       "output_type": "stream",
       "stream": "stdout",
       "text": [
        "\n",
        "http://www.linguasport.com/futbol/internacional/mundial/seekff.asp?pn=244"
       ]
      },
      {
       "output_type": "stream",
       "stream": "stdout",
       "text": [
        "\n",
        "http://www.linguasport.com/futbol/internacional/mundial/seekff.asp?pn=245"
       ]
      },
      {
       "output_type": "stream",
       "stream": "stdout",
       "text": [
        "\n",
        "http://www.linguasport.com/futbol/internacional/mundial/seekff.asp?pn=246"
       ]
      },
      {
       "output_type": "stream",
       "stream": "stdout",
       "text": [
        "\n",
        "http://www.linguasport.com/futbol/internacional/mundial/seekff.asp?pn=247"
       ]
      },
      {
       "output_type": "stream",
       "stream": "stdout",
       "text": [
        "\n",
        "http://www.linguasport.com/futbol/internacional/mundial/seekff.asp?pn=248"
       ]
      },
      {
       "output_type": "stream",
       "stream": "stdout",
       "text": [
        "\n",
        "http://www.linguasport.com/futbol/internacional/mundial/seekff.asp?pn=249"
       ]
      },
      {
       "output_type": "stream",
       "stream": "stdout",
       "text": [
        "\n",
        "http://www.linguasport.com/futbol/internacional/mundial/seekff.asp?pn=250"
       ]
      },
      {
       "output_type": "stream",
       "stream": "stdout",
       "text": [
        "\n",
        "http://www.linguasport.com/futbol/internacional/mundial/seekff.asp?pn=251"
       ]
      },
      {
       "output_type": "stream",
       "stream": "stdout",
       "text": [
        "\n",
        "http://www.linguasport.com/futbol/internacional/mundial/seekff.asp?pn=252"
       ]
      },
      {
       "output_type": "stream",
       "stream": "stdout",
       "text": [
        "\n",
        "http://www.linguasport.com/futbol/internacional/mundial/seekff.asp?pn=253"
       ]
      },
      {
       "output_type": "stream",
       "stream": "stdout",
       "text": [
        "\n",
        "http://www.linguasport.com/futbol/internacional/mundial/seekff.asp?pn=254"
       ]
      },
      {
       "output_type": "stream",
       "stream": "stdout",
       "text": [
        "\n",
        "http://www.linguasport.com/futbol/internacional/mundial/seekff.asp?pn=255"
       ]
      },
      {
       "output_type": "stream",
       "stream": "stdout",
       "text": [
        "\n",
        "http://www.linguasport.com/futbol/internacional/mundial/seekff.asp?pn=256"
       ]
      },
      {
       "output_type": "stream",
       "stream": "stdout",
       "text": [
        "\n",
        "http://www.linguasport.com/futbol/internacional/mundial/seekff.asp?pn=257"
       ]
      },
      {
       "output_type": "stream",
       "stream": "stdout",
       "text": [
        "\n",
        "http://www.linguasport.com/futbol/internacional/mundial/seekff.asp?pn=258"
       ]
      },
      {
       "output_type": "stream",
       "stream": "stdout",
       "text": [
        "\n",
        "http://www.linguasport.com/futbol/internacional/mundial/seekff.asp?pn=259"
       ]
      },
      {
       "output_type": "stream",
       "stream": "stdout",
       "text": [
        "\n",
        "http://www.linguasport.com/futbol/internacional/mundial/seekff.asp?pn=260"
       ]
      },
      {
       "output_type": "stream",
       "stream": "stdout",
       "text": [
        "\n",
        "http://www.linguasport.com/futbol/internacional/mundial/seekff.asp?pn=261"
       ]
      },
      {
       "output_type": "stream",
       "stream": "stdout",
       "text": [
        "\n",
        "http://www.linguasport.com/futbol/internacional/mundial/seekff.asp?pn=262"
       ]
      },
      {
       "output_type": "stream",
       "stream": "stdout",
       "text": [
        "\n",
        "http://www.linguasport.com/futbol/internacional/mundial/seekff.asp?pn=263"
       ]
      },
      {
       "output_type": "stream",
       "stream": "stdout",
       "text": [
        "\n",
        "http://www.linguasport.com/futbol/internacional/mundial/seekff.asp?pn=264"
       ]
      },
      {
       "output_type": "stream",
       "stream": "stdout",
       "text": [
        "\n",
        "http://www.linguasport.com/futbol/internacional/mundial/seekff.asp?pn=265"
       ]
      },
      {
       "output_type": "stream",
       "stream": "stdout",
       "text": [
        "\n",
        "http://www.linguasport.com/futbol/internacional/mundial/seekff.asp?pn=266"
       ]
      },
      {
       "output_type": "stream",
       "stream": "stdout",
       "text": [
        "\n",
        "http://www.linguasport.com/futbol/internacional/mundial/seekff.asp?pn=267"
       ]
      },
      {
       "output_type": "stream",
       "stream": "stdout",
       "text": [
        "\n",
        "http://www.linguasport.com/futbol/internacional/mundial/seekff.asp?pn=268"
       ]
      },
      {
       "output_type": "stream",
       "stream": "stdout",
       "text": [
        "\n",
        "http://www.linguasport.com/futbol/internacional/mundial/seekff.asp?pn=269"
       ]
      },
      {
       "output_type": "stream",
       "stream": "stdout",
       "text": [
        "\n",
        "http://www.linguasport.com/futbol/internacional/mundial/seekff.asp?pn=270"
       ]
      },
      {
       "output_type": "stream",
       "stream": "stdout",
       "text": [
        "\n",
        "http://www.linguasport.com/futbol/internacional/mundial/seekff.asp?pn=271"
       ]
      },
      {
       "output_type": "stream",
       "stream": "stdout",
       "text": [
        "\n",
        "http://www.linguasport.com/futbol/internacional/mundial/seekff.asp?pn=272"
       ]
      },
      {
       "output_type": "stream",
       "stream": "stdout",
       "text": [
        "\n",
        "http://www.linguasport.com/futbol/internacional/mundial/seekff.asp?pn=273"
       ]
      },
      {
       "output_type": "stream",
       "stream": "stdout",
       "text": [
        "\n",
        "http://www.linguasport.com/futbol/internacional/mundial/seekff.asp?pn=274"
       ]
      },
      {
       "output_type": "stream",
       "stream": "stdout",
       "text": [
        "\n",
        "http://www.linguasport.com/futbol/internacional/mundial/seekff.asp?pn=275"
       ]
      },
      {
       "output_type": "stream",
       "stream": "stdout",
       "text": [
        "\n",
        "http://www.linguasport.com/futbol/internacional/mundial/seekff.asp?pn=276"
       ]
      },
      {
       "output_type": "stream",
       "stream": "stdout",
       "text": [
        "\n",
        "http://www.linguasport.com/futbol/internacional/mundial/seekff.asp?pn=277"
       ]
      },
      {
       "output_type": "stream",
       "stream": "stdout",
       "text": [
        "\n",
        "http://www.linguasport.com/futbol/internacional/mundial/seekff.asp?pn=278"
       ]
      },
      {
       "output_type": "stream",
       "stream": "stdout",
       "text": [
        "\n",
        "http://www.linguasport.com/futbol/internacional/mundial/seekff.asp?pn=279"
       ]
      },
      {
       "output_type": "stream",
       "stream": "stdout",
       "text": [
        "\n",
        "http://www.linguasport.com/futbol/internacional/mundial/seekff.asp?pn=280"
       ]
      },
      {
       "output_type": "stream",
       "stream": "stdout",
       "text": [
        "\n",
        "http://www.linguasport.com/futbol/internacional/mundial/seekff.asp?pn=281"
       ]
      },
      {
       "output_type": "stream",
       "stream": "stdout",
       "text": [
        "\n",
        "http://www.linguasport.com/futbol/internacional/mundial/seekff.asp?pn=282"
       ]
      },
      {
       "output_type": "stream",
       "stream": "stdout",
       "text": [
        "\n",
        "http://www.linguasport.com/futbol/internacional/mundial/seekff.asp?pn=283"
       ]
      },
      {
       "output_type": "stream",
       "stream": "stdout",
       "text": [
        "\n",
        "http://www.linguasport.com/futbol/internacional/mundial/seekff.asp?pn=284"
       ]
      },
      {
       "output_type": "stream",
       "stream": "stdout",
       "text": [
        "\n",
        "http://www.linguasport.com/futbol/internacional/mundial/seekff.asp?pn=285"
       ]
      },
      {
       "output_type": "stream",
       "stream": "stdout",
       "text": [
        "\n",
        "http://www.linguasport.com/futbol/internacional/mundial/seekff.asp?pn=286"
       ]
      },
      {
       "output_type": "stream",
       "stream": "stdout",
       "text": [
        "\n",
        "http://www.linguasport.com/futbol/internacional/mundial/seekff.asp?pn=287"
       ]
      },
      {
       "output_type": "stream",
       "stream": "stdout",
       "text": [
        "\n",
        "http://www.linguasport.com/futbol/internacional/mundial/seekff.asp?pn=288"
       ]
      },
      {
       "output_type": "stream",
       "stream": "stdout",
       "text": [
        "\n",
        "http://www.linguasport.com/futbol/internacional/mundial/seekff.asp?pn=289"
       ]
      },
      {
       "output_type": "stream",
       "stream": "stdout",
       "text": [
        "\n",
        "http://www.linguasport.com/futbol/internacional/mundial/seekff.asp?pn=290"
       ]
      },
      {
       "output_type": "stream",
       "stream": "stdout",
       "text": [
        "\n",
        "http://www.linguasport.com/futbol/internacional/mundial/seekff.asp?pn=291"
       ]
      },
      {
       "output_type": "stream",
       "stream": "stdout",
       "text": [
        "\n",
        "http://www.linguasport.com/futbol/internacional/mundial/seekff.asp?pn=292"
       ]
      },
      {
       "output_type": "stream",
       "stream": "stdout",
       "text": [
        "\n",
        "http://www.linguasport.com/futbol/internacional/mundial/seekff.asp?pn=293"
       ]
      },
      {
       "output_type": "stream",
       "stream": "stdout",
       "text": [
        "\n",
        "http://www.linguasport.com/futbol/internacional/mundial/seekff.asp?pn=294"
       ]
      },
      {
       "output_type": "stream",
       "stream": "stdout",
       "text": [
        "\n",
        "http://www.linguasport.com/futbol/internacional/mundial/seekff.asp?pn=295"
       ]
      },
      {
       "output_type": "stream",
       "stream": "stdout",
       "text": [
        "\n",
        "http://www.linguasport.com/futbol/internacional/mundial/seekff.asp?pn=296"
       ]
      },
      {
       "output_type": "stream",
       "stream": "stdout",
       "text": [
        "\n",
        "http://www.linguasport.com/futbol/internacional/mundial/seekff.asp?pn=297"
       ]
      },
      {
       "output_type": "stream",
       "stream": "stdout",
       "text": [
        "\n",
        "http://www.linguasport.com/futbol/internacional/mundial/seekff.asp?pn=298"
       ]
      },
      {
       "output_type": "stream",
       "stream": "stdout",
       "text": [
        "\n",
        "http://www.linguasport.com/futbol/internacional/mundial/seekff.asp?pn=299"
       ]
      },
      {
       "output_type": "stream",
       "stream": "stdout",
       "text": [
        "\n",
        "http://www.linguasport.com/futbol/internacional/mundial/seekff.asp?pn=300"
       ]
      },
      {
       "output_type": "stream",
       "stream": "stdout",
       "text": [
        "\n",
        "http://www.linguasport.com/futbol/internacional/mundial/seekff.asp?pn=301"
       ]
      },
      {
       "output_type": "stream",
       "stream": "stdout",
       "text": [
        "\n",
        "http://www.linguasport.com/futbol/internacional/mundial/seekff.asp?pn=302"
       ]
      },
      {
       "output_type": "stream",
       "stream": "stdout",
       "text": [
        "\n",
        "http://www.linguasport.com/futbol/internacional/mundial/seekff.asp?pn=303"
       ]
      },
      {
       "output_type": "stream",
       "stream": "stdout",
       "text": [
        "\n",
        "http://www.linguasport.com/futbol/internacional/mundial/seekff.asp?pn=304"
       ]
      },
      {
       "output_type": "stream",
       "stream": "stdout",
       "text": [
        "\n",
        "http://www.linguasport.com/futbol/internacional/mundial/seekff.asp?pn=305"
       ]
      },
      {
       "output_type": "stream",
       "stream": "stdout",
       "text": [
        "\n",
        "http://www.linguasport.com/futbol/internacional/mundial/seekff.asp?pn=306"
       ]
      },
      {
       "output_type": "stream",
       "stream": "stdout",
       "text": [
        "\n",
        "http://www.linguasport.com/futbol/internacional/mundial/seekff.asp?pn=307"
       ]
      },
      {
       "output_type": "stream",
       "stream": "stdout",
       "text": [
        "\n",
        "http://www.linguasport.com/futbol/internacional/mundial/seekff.asp?pn=308"
       ]
      },
      {
       "output_type": "stream",
       "stream": "stdout",
       "text": [
        "\n",
        "http://www.linguasport.com/futbol/internacional/mundial/seekff.asp?pn=309"
       ]
      },
      {
       "output_type": "stream",
       "stream": "stdout",
       "text": [
        "\n",
        "http://www.linguasport.com/futbol/internacional/mundial/seekff.asp?pn=310"
       ]
      },
      {
       "output_type": "stream",
       "stream": "stdout",
       "text": [
        "\n",
        "http://www.linguasport.com/futbol/internacional/mundial/seekff.asp?pn=311"
       ]
      },
      {
       "output_type": "stream",
       "stream": "stdout",
       "text": [
        "\n",
        "http://www.linguasport.com/futbol/internacional/mundial/seekff.asp?pn=312"
       ]
      },
      {
       "output_type": "stream",
       "stream": "stdout",
       "text": [
        "\n",
        "http://www.linguasport.com/futbol/internacional/mundial/seekff.asp?pn=313"
       ]
      },
      {
       "output_type": "stream",
       "stream": "stdout",
       "text": [
        "\n",
        "http://www.linguasport.com/futbol/internacional/mundial/seekff.asp?pn=314"
       ]
      },
      {
       "output_type": "stream",
       "stream": "stdout",
       "text": [
        "\n",
        "http://www.linguasport.com/futbol/internacional/mundial/seekff.asp?pn=315"
       ]
      },
      {
       "output_type": "stream",
       "stream": "stdout",
       "text": [
        "\n",
        "http://www.linguasport.com/futbol/internacional/mundial/seekff.asp?pn=316"
       ]
      },
      {
       "output_type": "stream",
       "stream": "stdout",
       "text": [
        "\n",
        "http://www.linguasport.com/futbol/internacional/mundial/seekff.asp?pn=317"
       ]
      },
      {
       "output_type": "stream",
       "stream": "stdout",
       "text": [
        "\n",
        "http://www.linguasport.com/futbol/internacional/mundial/seekff.asp?pn=318"
       ]
      },
      {
       "output_type": "stream",
       "stream": "stdout",
       "text": [
        "\n",
        "http://www.linguasport.com/futbol/internacional/mundial/seekff.asp?pn=319"
       ]
      },
      {
       "output_type": "stream",
       "stream": "stdout",
       "text": [
        "\n",
        "http://www.linguasport.com/futbol/internacional/mundial/seekff.asp?pn=320"
       ]
      },
      {
       "output_type": "stream",
       "stream": "stdout",
       "text": [
        "\n",
        "http://www.linguasport.com/futbol/internacional/mundial/seekff.asp?pn=321"
       ]
      },
      {
       "output_type": "stream",
       "stream": "stdout",
       "text": [
        "\n",
        "http://www.linguasport.com/futbol/internacional/mundial/seekff.asp?pn=322"
       ]
      },
      {
       "output_type": "stream",
       "stream": "stdout",
       "text": [
        "\n",
        "http://www.linguasport.com/futbol/internacional/mundial/seekff.asp?pn=323"
       ]
      },
      {
       "output_type": "stream",
       "stream": "stdout",
       "text": [
        "\n",
        "http://www.linguasport.com/futbol/internacional/mundial/seekff.asp?pn=324"
       ]
      },
      {
       "output_type": "stream",
       "stream": "stdout",
       "text": [
        "\n",
        "http://www.linguasport.com/futbol/internacional/mundial/seekff.asp?pn=325"
       ]
      },
      {
       "output_type": "stream",
       "stream": "stdout",
       "text": [
        "\n",
        "http://www.linguasport.com/futbol/internacional/mundial/seekff.asp?pn=326"
       ]
      },
      {
       "output_type": "stream",
       "stream": "stdout",
       "text": [
        "\n",
        "http://www.linguasport.com/futbol/internacional/mundial/seekff.asp?pn=327"
       ]
      },
      {
       "output_type": "stream",
       "stream": "stdout",
       "text": [
        "\n",
        "http://www.linguasport.com/futbol/internacional/mundial/seekff.asp?pn=328"
       ]
      },
      {
       "output_type": "stream",
       "stream": "stdout",
       "text": [
        "\n",
        "http://www.linguasport.com/futbol/internacional/mundial/seekff.asp?pn=329"
       ]
      },
      {
       "output_type": "stream",
       "stream": "stdout",
       "text": [
        "\n",
        "http://www.linguasport.com/futbol/internacional/mundial/seekff.asp?pn=330"
       ]
      },
      {
       "output_type": "stream",
       "stream": "stdout",
       "text": [
        "\n",
        "http://www.linguasport.com/futbol/internacional/mundial/seekff.asp?pn=331"
       ]
      },
      {
       "output_type": "stream",
       "stream": "stdout",
       "text": [
        "\n",
        "http://www.linguasport.com/futbol/internacional/mundial/seekff.asp?pn=332"
       ]
      },
      {
       "output_type": "stream",
       "stream": "stdout",
       "text": [
        "\n",
        "http://www.linguasport.com/futbol/internacional/mundial/seekff.asp?pn=333"
       ]
      },
      {
       "output_type": "stream",
       "stream": "stdout",
       "text": [
        "\n",
        "http://www.linguasport.com/futbol/internacional/mundial/seekff.asp?pn=334"
       ]
      },
      {
       "output_type": "stream",
       "stream": "stdout",
       "text": [
        "\n",
        "http://www.linguasport.com/futbol/internacional/mundial/seekff.asp?pn=335"
       ]
      },
      {
       "output_type": "stream",
       "stream": "stdout",
       "text": [
        "\n",
        "http://www.linguasport.com/futbol/internacional/mundial/seekff.asp?pn=336"
       ]
      },
      {
       "output_type": "stream",
       "stream": "stdout",
       "text": [
        "\n",
        "http://www.linguasport.com/futbol/internacional/mundial/seekff.asp?pn=337"
       ]
      },
      {
       "output_type": "stream",
       "stream": "stdout",
       "text": [
        "\n",
        "http://www.linguasport.com/futbol/internacional/mundial/seekff.asp?pn=338"
       ]
      },
      {
       "output_type": "stream",
       "stream": "stdout",
       "text": [
        "\n",
        "http://www.linguasport.com/futbol/internacional/mundial/seekff.asp?pn=339"
       ]
      },
      {
       "output_type": "stream",
       "stream": "stdout",
       "text": [
        "\n",
        "http://www.linguasport.com/futbol/internacional/mundial/seekff.asp?pn=340"
       ]
      },
      {
       "output_type": "stream",
       "stream": "stdout",
       "text": [
        "\n",
        "http://www.linguasport.com/futbol/internacional/mundial/seekff.asp?pn=341"
       ]
      },
      {
       "output_type": "stream",
       "stream": "stdout",
       "text": [
        "\n",
        "http://www.linguasport.com/futbol/internacional/mundial/seekff.asp?pn=342"
       ]
      },
      {
       "output_type": "stream",
       "stream": "stdout",
       "text": [
        "\n",
        "http://www.linguasport.com/futbol/internacional/mundial/seekff.asp?pn=343"
       ]
      },
      {
       "output_type": "stream",
       "stream": "stdout",
       "text": [
        "\n",
        "http://www.linguasport.com/futbol/internacional/mundial/seekff.asp?pn=344"
       ]
      },
      {
       "output_type": "stream",
       "stream": "stdout",
       "text": [
        "\n",
        "http://www.linguasport.com/futbol/internacional/mundial/seekff.asp?pn=345"
       ]
      },
      {
       "output_type": "stream",
       "stream": "stdout",
       "text": [
        "\n",
        "http://www.linguasport.com/futbol/internacional/mundial/seekff.asp?pn=346"
       ]
      },
      {
       "output_type": "stream",
       "stream": "stdout",
       "text": [
        "\n",
        "http://www.linguasport.com/futbol/internacional/mundial/seekff.asp?pn=347"
       ]
      },
      {
       "output_type": "stream",
       "stream": "stdout",
       "text": [
        "\n",
        "http://www.linguasport.com/futbol/internacional/mundial/seekff.asp?pn=348"
       ]
      },
      {
       "output_type": "stream",
       "stream": "stdout",
       "text": [
        "\n",
        "http://www.linguasport.com/futbol/internacional/mundial/seekff.asp?pn=349"
       ]
      },
      {
       "output_type": "stream",
       "stream": "stdout",
       "text": [
        "\n",
        "http://www.linguasport.com/futbol/internacional/mundial/seekff.asp?pn=350"
       ]
      },
      {
       "output_type": "stream",
       "stream": "stdout",
       "text": [
        "\n",
        "http://www.linguasport.com/futbol/internacional/mundial/seekff.asp?pn=351"
       ]
      },
      {
       "output_type": "stream",
       "stream": "stdout",
       "text": [
        "\n",
        "http://www.linguasport.com/futbol/internacional/mundial/seekff.asp?pn=352"
       ]
      },
      {
       "output_type": "stream",
       "stream": "stdout",
       "text": [
        "\n",
        "http://www.linguasport.com/futbol/internacional/mundial/seekff.asp?pn=353"
       ]
      },
      {
       "output_type": "stream",
       "stream": "stdout",
       "text": [
        "\n",
        "http://www.linguasport.com/futbol/internacional/mundial/seekff.asp?pn=354"
       ]
      },
      {
       "output_type": "stream",
       "stream": "stdout",
       "text": [
        "\n",
        "http://www.linguasport.com/futbol/internacional/mundial/seekff.asp?pn=355"
       ]
      },
      {
       "output_type": "stream",
       "stream": "stdout",
       "text": [
        "\n",
        "http://www.linguasport.com/futbol/internacional/mundial/seekff.asp?pn=356"
       ]
      },
      {
       "output_type": "stream",
       "stream": "stdout",
       "text": [
        "\n",
        "http://www.linguasport.com/futbol/internacional/mundial/seekff.asp?pn=357"
       ]
      },
      {
       "output_type": "stream",
       "stream": "stdout",
       "text": [
        "\n",
        "http://www.linguasport.com/futbol/internacional/mundial/seekff.asp?pn=358"
       ]
      },
      {
       "output_type": "stream",
       "stream": "stdout",
       "text": [
        "\n",
        "http://www.linguasport.com/futbol/internacional/mundial/seekff.asp?pn=359"
       ]
      },
      {
       "output_type": "stream",
       "stream": "stdout",
       "text": [
        "\n",
        "http://www.linguasport.com/futbol/internacional/mundial/seekff.asp?pn=360"
       ]
      },
      {
       "output_type": "stream",
       "stream": "stdout",
       "text": [
        "\n",
        "http://www.linguasport.com/futbol/internacional/mundial/seekff.asp?pn=361"
       ]
      },
      {
       "output_type": "stream",
       "stream": "stdout",
       "text": [
        "\n",
        "http://www.linguasport.com/futbol/internacional/mundial/seekff.asp?pn=362"
       ]
      },
      {
       "output_type": "stream",
       "stream": "stdout",
       "text": [
        "\n",
        "http://www.linguasport.com/futbol/internacional/mundial/seekff.asp?pn=363"
       ]
      },
      {
       "output_type": "stream",
       "stream": "stdout",
       "text": [
        "\n",
        "http://www.linguasport.com/futbol/internacional/mundial/seekff.asp?pn=364"
       ]
      },
      {
       "output_type": "stream",
       "stream": "stdout",
       "text": [
        "\n",
        "http://www.linguasport.com/futbol/internacional/mundial/seekff.asp?pn=365"
       ]
      },
      {
       "output_type": "stream",
       "stream": "stdout",
       "text": [
        "\n",
        "http://www.linguasport.com/futbol/internacional/mundial/seekff.asp?pn=366"
       ]
      },
      {
       "output_type": "stream",
       "stream": "stdout",
       "text": [
        "\n"
       ]
      }
     ],
     "prompt_number": 111
    },
    {
     "cell_type": "code",
     "collapsed": false,
     "input": [
      "data = pd.DataFrame(result)\n",
      "data.to_csv('matches.csv', index=False, encoding='cp1252')"
     ],
     "language": "python",
     "metadata": {},
     "outputs": [
      {
       "ename": "UnicodeEncodeError",
       "evalue": "'charmap' codec can't encode characters in position 195-205: character maps to <undefined>",
       "output_type": "pyerr",
       "traceback": [
        "\u001b[1;31m---------------------------------------------------------------------------\u001b[0m\n\u001b[1;31mUnicodeEncodeError\u001b[0m                        Traceback (most recent call last)",
        "\u001b[1;32m<ipython-input-114-beea2b0f43e2>\u001b[0m in \u001b[0;36m<module>\u001b[1;34m()\u001b[0m\n\u001b[0;32m      1\u001b[0m \u001b[0mdata\u001b[0m \u001b[1;33m=\u001b[0m \u001b[0mpd\u001b[0m\u001b[1;33m.\u001b[0m\u001b[0mDataFrame\u001b[0m\u001b[1;33m(\u001b[0m\u001b[0mresult\u001b[0m\u001b[1;33m)\u001b[0m\u001b[1;33m\u001b[0m\u001b[0m\n\u001b[1;32m----> 2\u001b[1;33m \u001b[0mdata\u001b[0m\u001b[1;33m.\u001b[0m\u001b[0mto_csv\u001b[0m\u001b[1;33m(\u001b[0m\u001b[1;34m'matches.csv'\u001b[0m\u001b[1;33m,\u001b[0m \u001b[0mindex\u001b[0m\u001b[1;33m=\u001b[0m\u001b[0mFalse\u001b[0m\u001b[1;33m,\u001b[0m \u001b[0mencoding\u001b[0m\u001b[1;33m=\u001b[0m\u001b[1;34m'cp1252'\u001b[0m\u001b[1;33m)\u001b[0m\u001b[1;33m\u001b[0m\u001b[0m\n\u001b[0m",
        "\u001b[1;32mD:\\anaconda\\64\\lib\\site-packages\\pandas\\core\\frame.pyc\u001b[0m in \u001b[0;36mto_csv\u001b[1;34m(self, path_or_buf, sep, na_rep, float_format, cols, header, index, index_label, mode, nanRep, encoding, quoting, line_terminator, chunksize, tupleize_cols, **kwds)\u001b[0m\n\u001b[0;32m   1408\u001b[0m                                      \u001b[0mchunksize\u001b[0m\u001b[1;33m=\u001b[0m\u001b[0mchunksize\u001b[0m\u001b[1;33m,\u001b[0m\u001b[0mengine\u001b[0m\u001b[1;33m=\u001b[0m\u001b[0mkwds\u001b[0m\u001b[1;33m.\u001b[0m\u001b[0mget\u001b[0m\u001b[1;33m(\u001b[0m\u001b[1;34m\"engine\"\u001b[0m\u001b[1;33m)\u001b[0m\u001b[1;33m,\u001b[0m\u001b[1;33m\u001b[0m\u001b[0m\n\u001b[0;32m   1409\u001b[0m                                      tupleize_cols=tupleize_cols)\n\u001b[1;32m-> 1410\u001b[1;33m         \u001b[0mformatter\u001b[0m\u001b[1;33m.\u001b[0m\u001b[0msave\u001b[0m\u001b[1;33m(\u001b[0m\u001b[1;33m)\u001b[0m\u001b[1;33m\u001b[0m\u001b[0m\n\u001b[0m\u001b[0;32m   1411\u001b[0m \u001b[1;33m\u001b[0m\u001b[0m\n\u001b[0;32m   1412\u001b[0m     def to_excel(self, excel_writer, sheet_name='sheet1', na_rep='',\n",
        "\u001b[1;32mD:\\anaconda\\64\\lib\\site-packages\\pandas\\core\\format.pyc\u001b[0m in \u001b[0;36msave\u001b[1;34m(self)\u001b[0m\n\u001b[0;32m    970\u001b[0m \u001b[1;33m\u001b[0m\u001b[0m\n\u001b[0;32m    971\u001b[0m             \u001b[1;32melse\u001b[0m\u001b[1;33m:\u001b[0m\u001b[1;33m\u001b[0m\u001b[0m\n\u001b[1;32m--> 972\u001b[1;33m                 \u001b[0mself\u001b[0m\u001b[1;33m.\u001b[0m\u001b[0m_save\u001b[0m\u001b[1;33m(\u001b[0m\u001b[1;33m)\u001b[0m\u001b[1;33m\u001b[0m\u001b[0m\n\u001b[0m\u001b[0;32m    973\u001b[0m \u001b[1;33m\u001b[0m\u001b[0m\n\u001b[0;32m    974\u001b[0m \u001b[1;33m\u001b[0m\u001b[0m\n",
        "\u001b[1;32mD:\\anaconda\\64\\lib\\site-packages\\pandas\\core\\format.pyc\u001b[0m in \u001b[0;36m_save\u001b[1;34m(self)\u001b[0m\n\u001b[0;32m   1076\u001b[0m                 \u001b[1;32mbreak\u001b[0m\u001b[1;33m\u001b[0m\u001b[0m\n\u001b[0;32m   1077\u001b[0m \u001b[1;33m\u001b[0m\u001b[0m\n\u001b[1;32m-> 1078\u001b[1;33m             \u001b[0mself\u001b[0m\u001b[1;33m.\u001b[0m\u001b[0m_save_chunk\u001b[0m\u001b[1;33m(\u001b[0m\u001b[0mstart_i\u001b[0m\u001b[1;33m,\u001b[0m \u001b[0mend_i\u001b[0m\u001b[1;33m)\u001b[0m\u001b[1;33m\u001b[0m\u001b[0m\n\u001b[0m\u001b[0;32m   1079\u001b[0m \u001b[1;33m\u001b[0m\u001b[0m\n\u001b[0;32m   1080\u001b[0m     \u001b[1;32mdef\u001b[0m \u001b[0m_save_chunk\u001b[0m\u001b[1;33m(\u001b[0m\u001b[0mself\u001b[0m\u001b[1;33m,\u001b[0m \u001b[0mstart_i\u001b[0m\u001b[1;33m,\u001b[0m \u001b[0mend_i\u001b[0m\u001b[1;33m)\u001b[0m\u001b[1;33m:\u001b[0m\u001b[1;33m\u001b[0m\u001b[0m\n",
        "\u001b[1;32mD:\\anaconda\\64\\lib\\site-packages\\pandas\\core\\format.pyc\u001b[0m in \u001b[0;36m_save_chunk\u001b[1;34m(self, start_i, end_i)\u001b[0m\n\u001b[0;32m   1094\u001b[0m         \u001b[0mix\u001b[0m \u001b[1;33m=\u001b[0m \u001b[0mdata_index\u001b[0m\u001b[1;33m.\u001b[0m\u001b[0mto_native_types\u001b[0m\u001b[1;33m(\u001b[0m\u001b[0mslicer\u001b[0m\u001b[1;33m=\u001b[0m\u001b[0mslicer\u001b[0m\u001b[1;33m,\u001b[0m \u001b[0mna_rep\u001b[0m\u001b[1;33m=\u001b[0m\u001b[0mself\u001b[0m\u001b[1;33m.\u001b[0m\u001b[0mna_rep\u001b[0m\u001b[1;33m,\u001b[0m \u001b[0mfloat_format\u001b[0m\u001b[1;33m=\u001b[0m\u001b[0mself\u001b[0m\u001b[1;33m.\u001b[0m\u001b[0mfloat_format\u001b[0m\u001b[1;33m)\u001b[0m\u001b[1;33m\u001b[0m\u001b[0m\n\u001b[0;32m   1095\u001b[0m \u001b[1;33m\u001b[0m\u001b[0m\n\u001b[1;32m-> 1096\u001b[1;33m         \u001b[0mlib\u001b[0m\u001b[1;33m.\u001b[0m\u001b[0mwrite_csv_rows\u001b[0m\u001b[1;33m(\u001b[0m\u001b[0mself\u001b[0m\u001b[1;33m.\u001b[0m\u001b[0mdata\u001b[0m\u001b[1;33m,\u001b[0m \u001b[0mix\u001b[0m\u001b[1;33m,\u001b[0m \u001b[0mself\u001b[0m\u001b[1;33m.\u001b[0m\u001b[0mnlevels\u001b[0m\u001b[1;33m,\u001b[0m \u001b[0mself\u001b[0m\u001b[1;33m.\u001b[0m\u001b[0mcols\u001b[0m\u001b[1;33m,\u001b[0m \u001b[0mself\u001b[0m\u001b[1;33m.\u001b[0m\u001b[0mwriter\u001b[0m\u001b[1;33m)\u001b[0m\u001b[1;33m\u001b[0m\u001b[0m\n\u001b[0m\u001b[0;32m   1097\u001b[0m \u001b[1;33m\u001b[0m\u001b[0m\n\u001b[0;32m   1098\u001b[0m \u001b[1;31m# from collections import namedtuple\u001b[0m\u001b[1;33m\u001b[0m\u001b[1;33m\u001b[0m\u001b[0m\n",
        "\u001b[1;32mD:\\anaconda\\64\\lib\\site-packages\\pandas\\lib.pyd\u001b[0m in \u001b[0;36mpandas.lib.write_csv_rows (pandas\\lib.c:13800)\u001b[1;34m()\u001b[0m\n",
        "\u001b[1;32mD:\\anaconda\\64\\lib\\site-packages\\pandas\\core\\common.pyc\u001b[0m in \u001b[0;36mwriterows\u001b[1;34m(self, rows)\u001b[0m\n\u001b[0;32m   1806\u001b[0m             \u001b[0mdata\u001b[0m \u001b[1;33m=\u001b[0m \u001b[0mdata\u001b[0m\u001b[1;33m.\u001b[0m\u001b[0mdecode\u001b[0m\u001b[1;33m(\u001b[0m\u001b[1;34m\"utf-8\"\u001b[0m\u001b[1;33m)\u001b[0m\u001b[1;33m\u001b[0m\u001b[0m\n\u001b[0;32m   1807\u001b[0m             \u001b[1;31m# ... and reencode it into the target encoding\u001b[0m\u001b[1;33m\u001b[0m\u001b[1;33m\u001b[0m\u001b[0m\n\u001b[1;32m-> 1808\u001b[1;33m             \u001b[0mdata\u001b[0m \u001b[1;33m=\u001b[0m \u001b[0mself\u001b[0m\u001b[1;33m.\u001b[0m\u001b[0mencoder\u001b[0m\u001b[1;33m.\u001b[0m\u001b[0mencode\u001b[0m\u001b[1;33m(\u001b[0m\u001b[0mdata\u001b[0m\u001b[1;33m)\u001b[0m\u001b[1;33m\u001b[0m\u001b[0m\n\u001b[0m\u001b[0;32m   1809\u001b[0m             \u001b[1;31m# write to the target stream\u001b[0m\u001b[1;33m\u001b[0m\u001b[1;33m\u001b[0m\u001b[0m\n\u001b[0;32m   1810\u001b[0m             \u001b[0mself\u001b[0m\u001b[1;33m.\u001b[0m\u001b[0mstream\u001b[0m\u001b[1;33m.\u001b[0m\u001b[0mwrite\u001b[0m\u001b[1;33m(\u001b[0m\u001b[0mdata\u001b[0m\u001b[1;33m)\u001b[0m\u001b[1;33m\u001b[0m\u001b[0m\n",
        "\u001b[1;32mD:\\anaconda\\64\\lib\\encodings\\cp1252.pyc\u001b[0m in \u001b[0;36mencode\u001b[1;34m(self, input, final)\u001b[0m\n\u001b[0;32m     17\u001b[0m \u001b[1;32mclass\u001b[0m \u001b[0mIncrementalEncoder\u001b[0m\u001b[1;33m(\u001b[0m\u001b[0mcodecs\u001b[0m\u001b[1;33m.\u001b[0m\u001b[0mIncrementalEncoder\u001b[0m\u001b[1;33m)\u001b[0m\u001b[1;33m:\u001b[0m\u001b[1;33m\u001b[0m\u001b[0m\n\u001b[0;32m     18\u001b[0m     \u001b[1;32mdef\u001b[0m \u001b[0mencode\u001b[0m\u001b[1;33m(\u001b[0m\u001b[0mself\u001b[0m\u001b[1;33m,\u001b[0m \u001b[0minput\u001b[0m\u001b[1;33m,\u001b[0m \u001b[0mfinal\u001b[0m\u001b[1;33m=\u001b[0m\u001b[0mFalse\u001b[0m\u001b[1;33m)\u001b[0m\u001b[1;33m:\u001b[0m\u001b[1;33m\u001b[0m\u001b[0m\n\u001b[1;32m---> 19\u001b[1;33m         \u001b[1;32mreturn\u001b[0m \u001b[0mcodecs\u001b[0m\u001b[1;33m.\u001b[0m\u001b[0mcharmap_encode\u001b[0m\u001b[1;33m(\u001b[0m\u001b[0minput\u001b[0m\u001b[1;33m,\u001b[0m\u001b[0mself\u001b[0m\u001b[1;33m.\u001b[0m\u001b[0merrors\u001b[0m\u001b[1;33m,\u001b[0m\u001b[0mencoding_table\u001b[0m\u001b[1;33m)\u001b[0m\u001b[1;33m[\u001b[0m\u001b[1;36m0\u001b[0m\u001b[1;33m]\u001b[0m\u001b[1;33m\u001b[0m\u001b[0m\n\u001b[0m\u001b[0;32m     20\u001b[0m \u001b[1;33m\u001b[0m\u001b[0m\n\u001b[0;32m     21\u001b[0m \u001b[1;32mclass\u001b[0m \u001b[0mIncrementalDecoder\u001b[0m\u001b[1;33m(\u001b[0m\u001b[0mcodecs\u001b[0m\u001b[1;33m.\u001b[0m\u001b[0mIncrementalDecoder\u001b[0m\u001b[1;33m)\u001b[0m\u001b[1;33m:\u001b[0m\u001b[1;33m\u001b[0m\u001b[0m\n",
        "\u001b[1;31mUnicodeEncodeError\u001b[0m: 'charmap' codec can't encode characters in position 195-205: character maps to <undefined>"
       ]
      }
     ],
     "prompt_number": 114
    },
    {
     "cell_type": "code",
     "collapsed": false,
     "input": [],
     "language": "python",
     "metadata": {},
     "outputs": []
    }
   ],
   "metadata": {}
  }
 ]
}